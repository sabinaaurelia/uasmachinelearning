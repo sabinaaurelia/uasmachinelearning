{
  "cells": [
    {
      "cell_type": "markdown",
      "id": "Zy25qlplE7W_",
      "metadata": {
        "id": "Zy25qlplE7W_"
      },
      "source": [
        "**Optimasi Prediksi Kelulusan Siswa Menggunakan Particle Swarm Optimization (`PSO`) | KELOMPOK 2**\n",
        "\n",
        "**Anggota:**<br>\n",
        "1. Sabina Nurlatifah Aurelia | 2209106002\n",
        "2. Raudhya Azzahra'                | 2209106034\n",
        "3. Nadifa Salsabila Purnomo  | 220196044"
      ]
    },
    {
      "cell_type": "markdown",
      "id": "mR7Jo-mLFM4d",
      "metadata": {
        "id": "mR7Jo-mLFM4d"
      },
      "source": [
        "# Latar Belakang Masalah 💡\n",
        "\n",
        "> Keberhasilan akademis siswa dipengaruhi oleh berbagai faktor kompleks, mulai dari kebiasaan belajar hingga kondisi sosio-ekonomi. Memahami faktor-faktor ini dan dampaknya dapat membantu institusi pendidikan memberikan intervensi yang tepat sasaran. Proyek ini bertujuan untuk membangun sebuah model klasifikasi yang mampu memprediksi apakah seorang siswa akan lulus atau gagal dalam ujian berdasarkan serangkaian atribut yang relevan.\n"
      ]
    },
    {
      "cell_type": "markdown",
      "id": "J6o_Hua6Fyr7",
      "metadata": {
        "id": "J6o_Hua6Fyr7"
      },
      "source": [
        "# Tujuan Proyek\n",
        "\n",
        "1. **Eksplorasi dan Pra-pemrosesan Data**: Membersihkan dan mempersiapkan dataset faktor kinerja siswa untuk pemodelan.\n",
        "\n",
        "2. **Pembangunan Model Dasar**: Membuat model RandomForestClassifier sebagai baseline.\n",
        "Identifikasi dan Penanganan Overfitting: Menganalisis masalah overfitting pada model awal, di mana model \"menghafal\" data latih tetapi buruk pada data baru.\n",
        "\n",
        "3. **Optimasi Hyperparameter**: Menggunakan Particle Swarm Optimization (PSO) dengan metode cross-validation untuk menemukan kombinasi hyperparameter yang optimal dan robust.\n",
        "\n",
        "4. **Evaluasi Model Final**: Mengevaluasi kinerja model yang telah dioptimalkan pada data uji untuk memastikan kemampuannya dalam generalisasi."
      ]
    },
    {
      "cell_type": "markdown",
      "id": "qwmwIaH5GDDB",
      "metadata": {
        "id": "qwmwIaH5GDDB"
      },
      "source": [
        "# Metodologi\n",
        "\n",
        "Alur proyek ini dibagi menjadi beberapa fase utama:\n",
        "\n",
        "- **Fase 1**: Persiapan dan Eksplorasi Data\n",
        "- **Fase 2**: Pra-pemrosesan Data\n",
        "- **Fase 3**: Persiapan Pemodelan\n",
        "- **Fase 4**: Optimasi Hyperparameter dengan PSO\n",
        "- **Fase 5**: Pelatihan dan Evaluasi Model Final\n",
        "- **Fase 6**: Kesimpulan\n",
        "\n",
        "---"
      ]
    },
    {
      "cell_type": "markdown",
      "id": "VFvVssaxNQAo",
      "metadata": {
        "id": "VFvVssaxNQAo"
      },
      "source": [
        "## **Ringkasan Proyek**\n",
        "\n",
        "### **Sumber Dataset**\n",
        "\n",
        "Dataset yang digunakan dalam proyek ini bersumber dari **Kaggle**, sebuah platform populer untuk komunitas ilmu data. Dataset ini secara spesifik berjudul **\"Student Performance Factors\"** dan dapat diakses melalui tautan berikut:\n",
        "[Student Performance Factors](https://www.kaggle.com/datasets/lainguyn123/student-performance-factors?resource=download)\n",
        "\n",
        "Dataset ini berisi 20 fitur yang mencakup berbagai aspek kehidupan siswa, seperti demografi, kebiasaan belajar, keterlibatan orang tua, dan faktor lingkungan sekolah, yang bertujuan untuk memprediksi skor ujian akhir (`Exam_Score`).\n",
        "\n",
        "### **Teknik dan Metode yang Digunakan**\n",
        "\n",
        "Proyek ini menerapkan serangkaian teknik dan metode standar dalam *machine learning* untuk mencapai tujuannya:\n",
        "\n",
        "1.  **Analisis Data Eksploratif (EDA)**: Investigasi awal untuk memahami struktur data, distribusi, nilai yang hilang, dan hubungan antar variabel.\n",
        "2.  **Pra-pemrosesan Data (Preprocessing)**:\n",
        "    *   **Imputasi Nilai Hilang**: Menggunakan `SimpleImputer` dengan strategi modus (`most_frequent`) untuk mengisi data kategorikal yang kosong.\n",
        "    *   **Label Encoding**: Mengubah data kategorikal (seperti 'Gender', 'School_Type') menjadi representasi numerik menggunakan `LabelEncoder` agar dapat diproses oleh model.\n",
        "    *   **Penskalaan Fitur (Feature Scaling)**: Menormalisasi rentang nilai fitur menggunakan `StandardScaler` untuk memberikan bobot yang sama pada setiap fitur, yang penting untuk kinerja PCA.\n",
        "3.  **Rekayasa dan Seleksi Fitur**:\n",
        "    *   **Principal Component Analysis (PCA)**: Teknik reduksi dimensi untuk mengurangi jumlah fitur sambil mempertahankan sebagian besar informasi (95% varians). Ini membantu menyederhanakan model, mengurangi *noise*, dan mempercepat waktu pelatihan.\n",
        "4.  **Model Klasifikasi**:\n",
        "    *   **Random Forest Classifier**: Sebuah model *ensemble learning* yang membangun banyak pohon keputusan (*decision trees*) dan menggabungkan hasilnya. Model ini dikenal kuat, tahan terhadap *overfitting* (jika dikonfigurasi dengan baik), dan mampu menangani interaksi kompleks antar fitur.\n",
        "5.  **Optimasi Hyperparameter**:\n",
        "    *   **Particle Swarm Optimization (PSO)**: Sebuah algoritma optimasi metaheuristik yang terinspirasi dari perilaku sosial kawanan burung. PSO digunakan untuk mencari kombinasi hyperparameter (`n_estimators`, `max_depth`, `min_samples_leaf`) yang optimal untuk model Random Forest.\n",
        "6.  **Validasi Model dan Pencegahan Overfitting**:\n",
        "    *   **Train-Test Split**: Membagi data menjadi set pelatihan dan pengujian untuk evaluasi yang objektif. Parameter `stratify` digunakan untuk menjaga proporsi kelas yang sama di kedua set.\n",
        "    *   **K-Fold Cross-Validation**: Digunakan di dalam fungsi objektif PSO. Dengan mengevaluasi setiap kombinasi parameter pada beberapa \"lipatan\" (fold) dari data pelatihan, kita mendapatkan estimasi kinerja yang lebih stabil dan andal, serta mencegah *data leakage* dari data uji ke proses optimasi.\n",
        "    *   **Regularisasi**: Mengontrol kompleksitas model dengan menyertakan parameter `min_samples_leaf` dalam pencarian PSO, yang mencegah pohon keputusan menjadi terlalu spesifik dan menghafal data latih.\n",
        "\n",
        "---"
      ]
    },
    {
      "cell_type": "markdown",
      "id": "PAD0mKf8GUDI",
      "metadata": {
        "id": "PAD0mKf8GUDI"
      },
      "source": [
        "# Fase 1: Persiapan dan Eksplorasi Data\n",
        "\n",
        "Pada fase ini, kita akan memuat semua library yang diperlukan dan melakukan eksplorasi data awal (EDA) untuk memahami karakteristik dataset.\n"
      ]
    },
    {
      "cell_type": "markdown",
      "id": "Xt7LBOn9GYRE",
      "metadata": {
        "id": "Xt7LBOn9GYRE"
      },
      "source": [
        "## 1.1. Pemuatan Library dan Konfigurasi Awal"
      ]
    },
    {
      "cell_type": "code",
      "execution_count": 1,
      "id": "9e959978",
      "metadata": {
        "colab": {
          "base_uri": "https://localhost:8080/"
        },
        "id": "9e959978",
        "outputId": "a6f9fa27-8917-44cd-f165-137d7da53085"
      },
      "outputs": [],
      "source": [
        "# Import library fundamental\n",
        "import pandas as pd\n",
        "import numpy as np\n",
        "import matplotlib.pyplot as plt\n",
        "import seaborn as sns\n",
        "import warnings\n",
        "\n",
        "# Import komponen dari Scikit-learn\n",
        "from sklearn.model_selection import train_test_split, cross_val_score\n",
        "from sklearn.preprocessing import LabelEncoder, StandardScaler\n",
        "from sklearn.impute import SimpleImputer\n",
        "from sklearn.decomposition import PCA\n",
        "from sklearn.ensemble import RandomForestClassifier\n",
        "from sklearn.metrics import classification_report, accuracy_score, confusion_matrix\n",
        "# Import PSO\n",
        "from pyswarm import pso\n",
        "\n",
        "# Konfigurasi\n",
        "warnings.filterwarnings(\"ignore\")\n",
        "pd.set_option('display.max_columns', None)\n",
        "RANDOM_STATE = 42\n",
        "sns.set_style('whitegrid')"
      ]
    },
    {
      "cell_type": "markdown",
      "id": "-U3r2vjFGfto",
      "metadata": {
        "id": "-U3r2vjFGfto"
      },
      "source": [
        "##  1.2. Pemuatan Dataset\n",
        "\n",
        "Data diambil dari repositori publik dan dimuat ke dalam DataFrame pandas.\n"
      ]
    },
    {
      "cell_type": "code",
      "execution_count": 2,
      "id": "u1Xo0Dn6Gk5p",
      "metadata": {
        "colab": {
          "base_uri": "https://localhost:8080/"
        },
        "id": "u1Xo0Dn6Gk5p",
        "outputId": "9094927b-e98e-4200-9e5d-41bc72222296"
      },
      "outputs": [
        {
          "name": "stdout",
          "output_type": "stream",
          "text": [
            "Dataset berhasil dimuat.\n"
          ]
        }
      ],
      "source": [
        "url = 'https://raw.githubusercontent.com/tifas-storage/dataset-storage/refs/heads/main/Learning/StudentPerformanceFactors.csv'\n",
        "df = pd.read_csv(url)\n",
        "\n",
        "print(\"Dataset berhasil dimuat.\")"
      ]
    },
    {
      "cell_type": "markdown",
      "id": "tYbtI_COGoJd",
      "metadata": {
        "id": "tYbtI_COGoJd"
      },
      "source": [
        "## 1.3. Eksplorasi Data Awal (EDA)\n",
        "Memahami struktur, isi, dan kualitas data awal."
      ]
    },
    {
      "cell_type": "code",
      "execution_count": 3,
      "id": "a622664a",
      "metadata": {
        "colab": {
          "base_uri": "https://localhost:8080/",
          "height": 1000
        },
        "id": "a622664a",
        "outputId": "771681a8-24b2-4d70-b6ad-f38cfdc222ac"
      },
      "outputs": [
        {
          "name": "stdout",
          "output_type": "stream",
          "text": [
            "Contoh 5 Baris Data Awal:\n"
          ]
        },
        {
          "data": {
            "text/html": [
              "<div>\n",
              "<style scoped>\n",
              "    .dataframe tbody tr th:only-of-type {\n",
              "        vertical-align: middle;\n",
              "    }\n",
              "\n",
              "    .dataframe tbody tr th {\n",
              "        vertical-align: top;\n",
              "    }\n",
              "\n",
              "    .dataframe thead th {\n",
              "        text-align: right;\n",
              "    }\n",
              "</style>\n",
              "<table border=\"1\" class=\"dataframe\">\n",
              "  <thead>\n",
              "    <tr style=\"text-align: right;\">\n",
              "      <th></th>\n",
              "      <th>Hours_Studied</th>\n",
              "      <th>Attendance</th>\n",
              "      <th>Parental_Involvement</th>\n",
              "      <th>Access_to_Resources</th>\n",
              "      <th>Extracurricular_Activities</th>\n",
              "      <th>Sleep_Hours</th>\n",
              "      <th>Previous_Scores</th>\n",
              "      <th>Motivation_Level</th>\n",
              "      <th>Internet_Access</th>\n",
              "      <th>Tutoring_Sessions</th>\n",
              "      <th>Family_Income</th>\n",
              "      <th>Teacher_Quality</th>\n",
              "      <th>School_Type</th>\n",
              "      <th>Peer_Influence</th>\n",
              "      <th>Physical_Activity</th>\n",
              "      <th>Learning_Disabilities</th>\n",
              "      <th>Parental_Education_Level</th>\n",
              "      <th>Distance_from_Home</th>\n",
              "      <th>Gender</th>\n",
              "      <th>Exam_Score</th>\n",
              "    </tr>\n",
              "  </thead>\n",
              "  <tbody>\n",
              "    <tr>\n",
              "      <th>0</th>\n",
              "      <td>23</td>\n",
              "      <td>84</td>\n",
              "      <td>Low</td>\n",
              "      <td>High</td>\n",
              "      <td>No</td>\n",
              "      <td>7</td>\n",
              "      <td>73</td>\n",
              "      <td>Low</td>\n",
              "      <td>Yes</td>\n",
              "      <td>0</td>\n",
              "      <td>Low</td>\n",
              "      <td>Medium</td>\n",
              "      <td>Public</td>\n",
              "      <td>Positive</td>\n",
              "      <td>3</td>\n",
              "      <td>No</td>\n",
              "      <td>High School</td>\n",
              "      <td>Near</td>\n",
              "      <td>Male</td>\n",
              "      <td>67</td>\n",
              "    </tr>\n",
              "    <tr>\n",
              "      <th>1</th>\n",
              "      <td>19</td>\n",
              "      <td>64</td>\n",
              "      <td>Low</td>\n",
              "      <td>Medium</td>\n",
              "      <td>No</td>\n",
              "      <td>8</td>\n",
              "      <td>59</td>\n",
              "      <td>Low</td>\n",
              "      <td>Yes</td>\n",
              "      <td>2</td>\n",
              "      <td>Medium</td>\n",
              "      <td>Medium</td>\n",
              "      <td>Public</td>\n",
              "      <td>Negative</td>\n",
              "      <td>4</td>\n",
              "      <td>No</td>\n",
              "      <td>College</td>\n",
              "      <td>Moderate</td>\n",
              "      <td>Female</td>\n",
              "      <td>61</td>\n",
              "    </tr>\n",
              "    <tr>\n",
              "      <th>2</th>\n",
              "      <td>24</td>\n",
              "      <td>98</td>\n",
              "      <td>Medium</td>\n",
              "      <td>Medium</td>\n",
              "      <td>Yes</td>\n",
              "      <td>7</td>\n",
              "      <td>91</td>\n",
              "      <td>Medium</td>\n",
              "      <td>Yes</td>\n",
              "      <td>2</td>\n",
              "      <td>Medium</td>\n",
              "      <td>Medium</td>\n",
              "      <td>Public</td>\n",
              "      <td>Neutral</td>\n",
              "      <td>4</td>\n",
              "      <td>No</td>\n",
              "      <td>Postgraduate</td>\n",
              "      <td>Near</td>\n",
              "      <td>Male</td>\n",
              "      <td>74</td>\n",
              "    </tr>\n",
              "    <tr>\n",
              "      <th>3</th>\n",
              "      <td>29</td>\n",
              "      <td>89</td>\n",
              "      <td>Low</td>\n",
              "      <td>Medium</td>\n",
              "      <td>Yes</td>\n",
              "      <td>8</td>\n",
              "      <td>98</td>\n",
              "      <td>Medium</td>\n",
              "      <td>Yes</td>\n",
              "      <td>1</td>\n",
              "      <td>Medium</td>\n",
              "      <td>Medium</td>\n",
              "      <td>Public</td>\n",
              "      <td>Negative</td>\n",
              "      <td>4</td>\n",
              "      <td>No</td>\n",
              "      <td>High School</td>\n",
              "      <td>Moderate</td>\n",
              "      <td>Male</td>\n",
              "      <td>71</td>\n",
              "    </tr>\n",
              "    <tr>\n",
              "      <th>4</th>\n",
              "      <td>19</td>\n",
              "      <td>92</td>\n",
              "      <td>Medium</td>\n",
              "      <td>Medium</td>\n",
              "      <td>Yes</td>\n",
              "      <td>6</td>\n",
              "      <td>65</td>\n",
              "      <td>Medium</td>\n",
              "      <td>Yes</td>\n",
              "      <td>3</td>\n",
              "      <td>Medium</td>\n",
              "      <td>High</td>\n",
              "      <td>Public</td>\n",
              "      <td>Neutral</td>\n",
              "      <td>4</td>\n",
              "      <td>No</td>\n",
              "      <td>College</td>\n",
              "      <td>Near</td>\n",
              "      <td>Female</td>\n",
              "      <td>70</td>\n",
              "    </tr>\n",
              "  </tbody>\n",
              "</table>\n",
              "</div>"
            ],
            "text/plain": [
              "   Hours_Studied  Attendance Parental_Involvement Access_to_Resources  \\\n",
              "0             23          84                  Low                High   \n",
              "1             19          64                  Low              Medium   \n",
              "2             24          98               Medium              Medium   \n",
              "3             29          89                  Low              Medium   \n",
              "4             19          92               Medium              Medium   \n",
              "\n",
              "  Extracurricular_Activities  Sleep_Hours  Previous_Scores Motivation_Level  \\\n",
              "0                         No            7               73              Low   \n",
              "1                         No            8               59              Low   \n",
              "2                        Yes            7               91           Medium   \n",
              "3                        Yes            8               98           Medium   \n",
              "4                        Yes            6               65           Medium   \n",
              "\n",
              "  Internet_Access  Tutoring_Sessions Family_Income Teacher_Quality  \\\n",
              "0             Yes                  0           Low          Medium   \n",
              "1             Yes                  2        Medium          Medium   \n",
              "2             Yes                  2        Medium          Medium   \n",
              "3             Yes                  1        Medium          Medium   \n",
              "4             Yes                  3        Medium            High   \n",
              "\n",
              "  School_Type Peer_Influence  Physical_Activity Learning_Disabilities  \\\n",
              "0      Public       Positive                  3                    No   \n",
              "1      Public       Negative                  4                    No   \n",
              "2      Public        Neutral                  4                    No   \n",
              "3      Public       Negative                  4                    No   \n",
              "4      Public        Neutral                  4                    No   \n",
              "\n",
              "  Parental_Education_Level Distance_from_Home  Gender  Exam_Score  \n",
              "0              High School               Near    Male          67  \n",
              "1                  College           Moderate  Female          61  \n",
              "2             Postgraduate               Near    Male          74  \n",
              "3              High School           Moderate    Male          71  \n",
              "4                  College               Near  Female          70  "
            ]
          },
          "metadata": {},
          "output_type": "display_data"
        },
        {
          "name": "stdout",
          "output_type": "stream",
          "text": [
            "\n",
            "Informasi Struktur Dataset:\n",
            "<class 'pandas.core.frame.DataFrame'>\n",
            "RangeIndex: 6607 entries, 0 to 6606\n",
            "Data columns (total 20 columns):\n",
            " #   Column                      Non-Null Count  Dtype \n",
            "---  ------                      --------------  ----- \n",
            " 0   Hours_Studied               6607 non-null   int64 \n",
            " 1   Attendance                  6607 non-null   int64 \n",
            " 2   Parental_Involvement        6607 non-null   object\n",
            " 3   Access_to_Resources         6607 non-null   object\n",
            " 4   Extracurricular_Activities  6607 non-null   object\n",
            " 5   Sleep_Hours                 6607 non-null   int64 \n",
            " 6   Previous_Scores             6607 non-null   int64 \n",
            " 7   Motivation_Level            6607 non-null   object\n",
            " 8   Internet_Access             6607 non-null   object\n",
            " 9   Tutoring_Sessions           6607 non-null   int64 \n",
            " 10  Family_Income               6607 non-null   object\n",
            " 11  Teacher_Quality             6529 non-null   object\n",
            " 12  School_Type                 6607 non-null   object\n",
            " 13  Peer_Influence              6607 non-null   object\n",
            " 14  Physical_Activity           6607 non-null   int64 \n",
            " 15  Learning_Disabilities       6607 non-null   object\n",
            " 16  Parental_Education_Level    6517 non-null   object\n",
            " 17  Distance_from_Home          6540 non-null   object\n",
            " 18  Gender                      6607 non-null   object\n",
            " 19  Exam_Score                  6607 non-null   int64 \n",
            "dtypes: int64(7), object(13)\n",
            "memory usage: 1.0+ MB\n",
            "\n",
            "Statistik Deskriptif untuk Kolom Numerik:\n"
          ]
        },
        {
          "data": {
            "text/html": [
              "<div>\n",
              "<style scoped>\n",
              "    .dataframe tbody tr th:only-of-type {\n",
              "        vertical-align: middle;\n",
              "    }\n",
              "\n",
              "    .dataframe tbody tr th {\n",
              "        vertical-align: top;\n",
              "    }\n",
              "\n",
              "    .dataframe thead th {\n",
              "        text-align: right;\n",
              "    }\n",
              "</style>\n",
              "<table border=\"1\" class=\"dataframe\">\n",
              "  <thead>\n",
              "    <tr style=\"text-align: right;\">\n",
              "      <th></th>\n",
              "      <th>Hours_Studied</th>\n",
              "      <th>Attendance</th>\n",
              "      <th>Sleep_Hours</th>\n",
              "      <th>Previous_Scores</th>\n",
              "      <th>Tutoring_Sessions</th>\n",
              "      <th>Physical_Activity</th>\n",
              "      <th>Exam_Score</th>\n",
              "    </tr>\n",
              "  </thead>\n",
              "  <tbody>\n",
              "    <tr>\n",
              "      <th>count</th>\n",
              "      <td>6607.000000</td>\n",
              "      <td>6607.000000</td>\n",
              "      <td>6607.00000</td>\n",
              "      <td>6607.000000</td>\n",
              "      <td>6607.000000</td>\n",
              "      <td>6607.000000</td>\n",
              "      <td>6607.000000</td>\n",
              "    </tr>\n",
              "    <tr>\n",
              "      <th>mean</th>\n",
              "      <td>19.975329</td>\n",
              "      <td>79.977448</td>\n",
              "      <td>7.02906</td>\n",
              "      <td>75.070531</td>\n",
              "      <td>1.493719</td>\n",
              "      <td>2.967610</td>\n",
              "      <td>67.235659</td>\n",
              "    </tr>\n",
              "    <tr>\n",
              "      <th>std</th>\n",
              "      <td>5.990594</td>\n",
              "      <td>11.547475</td>\n",
              "      <td>1.46812</td>\n",
              "      <td>14.399784</td>\n",
              "      <td>1.230570</td>\n",
              "      <td>1.031231</td>\n",
              "      <td>3.890456</td>\n",
              "    </tr>\n",
              "    <tr>\n",
              "      <th>min</th>\n",
              "      <td>1.000000</td>\n",
              "      <td>60.000000</td>\n",
              "      <td>4.00000</td>\n",
              "      <td>50.000000</td>\n",
              "      <td>0.000000</td>\n",
              "      <td>0.000000</td>\n",
              "      <td>55.000000</td>\n",
              "    </tr>\n",
              "    <tr>\n",
              "      <th>25%</th>\n",
              "      <td>16.000000</td>\n",
              "      <td>70.000000</td>\n",
              "      <td>6.00000</td>\n",
              "      <td>63.000000</td>\n",
              "      <td>1.000000</td>\n",
              "      <td>2.000000</td>\n",
              "      <td>65.000000</td>\n",
              "    </tr>\n",
              "    <tr>\n",
              "      <th>50%</th>\n",
              "      <td>20.000000</td>\n",
              "      <td>80.000000</td>\n",
              "      <td>7.00000</td>\n",
              "      <td>75.000000</td>\n",
              "      <td>1.000000</td>\n",
              "      <td>3.000000</td>\n",
              "      <td>67.000000</td>\n",
              "    </tr>\n",
              "    <tr>\n",
              "      <th>75%</th>\n",
              "      <td>24.000000</td>\n",
              "      <td>90.000000</td>\n",
              "      <td>8.00000</td>\n",
              "      <td>88.000000</td>\n",
              "      <td>2.000000</td>\n",
              "      <td>4.000000</td>\n",
              "      <td>69.000000</td>\n",
              "    </tr>\n",
              "    <tr>\n",
              "      <th>max</th>\n",
              "      <td>44.000000</td>\n",
              "      <td>100.000000</td>\n",
              "      <td>10.00000</td>\n",
              "      <td>100.000000</td>\n",
              "      <td>8.000000</td>\n",
              "      <td>6.000000</td>\n",
              "      <td>101.000000</td>\n",
              "    </tr>\n",
              "  </tbody>\n",
              "</table>\n",
              "</div>"
            ],
            "text/plain": [
              "       Hours_Studied   Attendance  Sleep_Hours  Previous_Scores  \\\n",
              "count    6607.000000  6607.000000   6607.00000      6607.000000   \n",
              "mean       19.975329    79.977448      7.02906        75.070531   \n",
              "std         5.990594    11.547475      1.46812        14.399784   \n",
              "min         1.000000    60.000000      4.00000        50.000000   \n",
              "25%        16.000000    70.000000      6.00000        63.000000   \n",
              "50%        20.000000    80.000000      7.00000        75.000000   \n",
              "75%        24.000000    90.000000      8.00000        88.000000   \n",
              "max        44.000000   100.000000     10.00000       100.000000   \n",
              "\n",
              "       Tutoring_Sessions  Physical_Activity   Exam_Score  \n",
              "count        6607.000000        6607.000000  6607.000000  \n",
              "mean            1.493719           2.967610    67.235659  \n",
              "std             1.230570           1.031231     3.890456  \n",
              "min             0.000000           0.000000    55.000000  \n",
              "25%             1.000000           2.000000    65.000000  \n",
              "50%             1.000000           3.000000    67.000000  \n",
              "75%             2.000000           4.000000    69.000000  \n",
              "max             8.000000           6.000000   101.000000  "
            ]
          },
          "metadata": {},
          "output_type": "display_data"
        },
        {
          "name": "stdout",
          "output_type": "stream",
          "text": [
            "\n",
            "Jumlah Nilai Hilang per Kolom:\n",
            "Hours_Studied                  0\n",
            "Attendance                     0\n",
            "Parental_Involvement           0\n",
            "Access_to_Resources            0\n",
            "Extracurricular_Activities     0\n",
            "Sleep_Hours                    0\n",
            "Previous_Scores                0\n",
            "Motivation_Level               0\n",
            "Internet_Access                0\n",
            "Tutoring_Sessions              0\n",
            "Family_Income                  0\n",
            "Teacher_Quality               78\n",
            "School_Type                    0\n",
            "Peer_Influence                 0\n",
            "Physical_Activity              0\n",
            "Learning_Disabilities          0\n",
            "Parental_Education_Level      90\n",
            "Distance_from_Home            67\n",
            "Gender                         0\n",
            "Exam_Score                     0\n",
            "dtype: int64\n",
            "\n",
            "Jumlah Data Duplikat: 0\n"
          ]
        }
      ],
      "source": [
        "# Menampilkan 5 baris pertama untuk melihat sampel data\n",
        "print(\"Contoh 5 Baris Data Awal:\")\n",
        "display(df.head())\n",
        "\n",
        "# Menampilkan informasi ringkas tentang dataset (tipe data, non-null counts)\n",
        "print(\"\\nInformasi Struktur Dataset:\")\n",
        "df.info()\n",
        "\n",
        "# Menampilkan statistik deskriptif untuk kolom numerik\n",
        "print(\"\\nStatistik Deskriptif untuk Kolom Numerik:\")\n",
        "display(df.describe())\n",
        "\n",
        "# Memeriksa jumlah nilai yang hilang (missing values) per kolom\n",
        "print(\"\\nJumlah Nilai Hilang per Kolom:\")\n",
        "print(df.isnull().sum())\n",
        "\n",
        "# Memeriksa jumlah data duplikat\n",
        "print(f\"\\nJumlah Data Duplikat: {df.duplicated().sum()}\")"
      ]
    },
    {
      "cell_type": "markdown",
      "id": "RZLJMpe3GwKx",
      "metadata": {
        "id": "RZLJMpe3GwKx"
      },
      "source": [
        "> **Observasi Awal:**\n",
        "> *   Dataset terdiri dari **6607 baris** dan **20 kolom**.\n",
        "> *   Terdapat campuran tipe data `int64` (numerik) dan `object` (kategorikal).\n",
        "> *   Teridentifikasi nilai yang hilang pada kolom: `Teacher_Quality` (78), `Parental_Education_Level` (90), dan `Distance_from_Home` (67).\n",
        "> *   Tidak ditemukan adanya baris data yang terduplikasi.\n",
        "\n",
        "---"
      ]
    },
    {
      "cell_type": "markdown",
      "id": "jX_whKJLHGNa",
      "metadata": {
        "id": "jX_whKJLHGNa"
      },
      "source": [
        "# Fase 2: Pra-pemrosesan Data (Data Preprocessing)\n",
        "\n",
        "Pada fase ini, kita akan membersihkan dan mentransformasi data agar siap untuk pemodelan.\n"
      ]
    },
    {
      "cell_type": "markdown",
      "id": "BwyhBJRhHJLt",
      "metadata": {
        "id": "BwyhBJRhHJLt"
      },
      "source": [
        "## 2.1. Feature Engineering: Membuat Variabel Target\n",
        "Kita mengubah masalah regresi (memprediksi *Exam_Score*) menjadi masalah klasifikasi biner."
      ]
    },
    {
      "cell_type": "code",
      "execution_count": 4,
      "id": "NTzkxgyQHNp6",
      "metadata": {
        "colab": {
          "base_uri": "https://localhost:8080/"
        },
        "id": "NTzkxgyQHNp6",
        "outputId": "d4d62b8b-03ef-4413-c2ae-e799a487d679"
      },
      "outputs": [
        {
          "name": "stdout",
          "output_type": "stream",
          "text": [
            "Kolom target 'Pass_Fail' berhasil dibuat.\n"
          ]
        }
      ],
      "source": [
        "# Membuat variabel target 'Pass_Fail' berdasarkan 'Exam_Score'\n",
        "# Siswa dianggap 'Pass' jika skor >= 65, selain itu 'Fail'\n",
        "df['Pass_Fail'] = df['Exam_Score'].apply(lambda x: 'Pass' if x >= 68 else 'Fail')\n",
        "\n",
        "print(\"Kolom target 'Pass_Fail' berhasil dibuat.\")"
      ]
    },
    {
      "cell_type": "markdown",
      "id": "1_8-_MGOH1qr",
      "metadata": {
        "id": "1_8-_MGOH1qr"
      },
      "source": [
        "## 2.2. Penanganan Nilai Hilang (Imputation)\n",
        "Mengisi nilai yang hilang menggunakan strategi modus (nilai yang paling sering muncul), cocok untuk data kategorikal."
      ]
    },
    {
      "cell_type": "code",
      "execution_count": 5,
      "id": "rz-dT40qH544",
      "metadata": {
        "colab": {
          "base_uri": "https://localhost:8080/"
        },
        "id": "rz-dT40qH544",
        "outputId": "b5c92fc3-e63e-4997-fc28-5891b936b324"
      },
      "outputs": [
        {
          "name": "stdout",
          "output_type": "stream",
          "text": [
            "Nilai yang hilang telah diisi menggunakan modus.\n",
            "\n",
            "Pengecekan ulang nilai hilang setelah imputasi:\n",
            "0\n"
          ]
        }
      ],
      "source": [
        "# Identifikasi kolom dengan nilai hilang\n",
        "cols_with_na = ['Teacher_Quality', 'Parental_Education_Level', 'Distance_from_Home']\n",
        "\n",
        "# Inisialisasi imputer dengan strategi 'most_frequent'\n",
        "imputer = SimpleImputer(strategy='most_frequent')\n",
        "\n",
        "# Terapkan imputasi\n",
        "df[cols_with_na] = imputer.fit_transform(df[cols_with_na])\n",
        "\n",
        "print(\"Nilai yang hilang telah diisi menggunakan modus.\")\n",
        "print(\"\\nPengecekan ulang nilai hilang setelah imputasi:\")\n",
        "print(df.isnull().sum().sum()) # Total harus 0"
      ]
    },
    {
      "cell_type": "markdown",
      "id": "hkR5CGRqH78E",
      "metadata": {
        "id": "hkR5CGRqH78E"
      },
      "source": [
        "## 2.3. Encoding Fitur Kategorikal\n",
        "Model machine learning memerlukan input numerik. Kita akan mengubah fitur kategorikal (object) menjadi angka menggunakan LabelEncoder."
      ]
    },
    {
      "cell_type": "code",
      "execution_count": 6,
      "id": "RJfac2i1H9f6",
      "metadata": {
        "colab": {
          "base_uri": "https://localhost:8080/",
          "height": 278
        },
        "id": "RJfac2i1H9f6",
        "outputId": "f4029860-56c6-45f5-9cf4-47fe43fff636"
      },
      "outputs": [
        {
          "name": "stdout",
          "output_type": "stream",
          "text": [
            "Semua fitur kategorikal dan target telah di-encode menjadi numerik.\n",
            "\n",
            "Contoh data setelah encoding:\n"
          ]
        },
        {
          "data": {
            "text/html": [
              "<div>\n",
              "<style scoped>\n",
              "    .dataframe tbody tr th:only-of-type {\n",
              "        vertical-align: middle;\n",
              "    }\n",
              "\n",
              "    .dataframe tbody tr th {\n",
              "        vertical-align: top;\n",
              "    }\n",
              "\n",
              "    .dataframe thead th {\n",
              "        text-align: right;\n",
              "    }\n",
              "</style>\n",
              "<table border=\"1\" class=\"dataframe\">\n",
              "  <thead>\n",
              "    <tr style=\"text-align: right;\">\n",
              "      <th></th>\n",
              "      <th>Hours_Studied</th>\n",
              "      <th>Attendance</th>\n",
              "      <th>Parental_Involvement</th>\n",
              "      <th>Access_to_Resources</th>\n",
              "      <th>Extracurricular_Activities</th>\n",
              "      <th>Sleep_Hours</th>\n",
              "      <th>Previous_Scores</th>\n",
              "      <th>Motivation_Level</th>\n",
              "      <th>Internet_Access</th>\n",
              "      <th>Tutoring_Sessions</th>\n",
              "      <th>Family_Income</th>\n",
              "      <th>Teacher_Quality</th>\n",
              "      <th>School_Type</th>\n",
              "      <th>Peer_Influence</th>\n",
              "      <th>Physical_Activity</th>\n",
              "      <th>Learning_Disabilities</th>\n",
              "      <th>Parental_Education_Level</th>\n",
              "      <th>Distance_from_Home</th>\n",
              "      <th>Gender</th>\n",
              "      <th>Exam_Score</th>\n",
              "      <th>Pass_Fail</th>\n",
              "    </tr>\n",
              "  </thead>\n",
              "  <tbody>\n",
              "    <tr>\n",
              "      <th>0</th>\n",
              "      <td>23</td>\n",
              "      <td>84</td>\n",
              "      <td>1</td>\n",
              "      <td>0</td>\n",
              "      <td>0</td>\n",
              "      <td>7</td>\n",
              "      <td>73</td>\n",
              "      <td>1</td>\n",
              "      <td>1</td>\n",
              "      <td>0</td>\n",
              "      <td>1</td>\n",
              "      <td>2</td>\n",
              "      <td>1</td>\n",
              "      <td>2</td>\n",
              "      <td>3</td>\n",
              "      <td>0</td>\n",
              "      <td>1</td>\n",
              "      <td>2</td>\n",
              "      <td>1</td>\n",
              "      <td>67</td>\n",
              "      <td>0</td>\n",
              "    </tr>\n",
              "    <tr>\n",
              "      <th>1</th>\n",
              "      <td>19</td>\n",
              "      <td>64</td>\n",
              "      <td>1</td>\n",
              "      <td>2</td>\n",
              "      <td>0</td>\n",
              "      <td>8</td>\n",
              "      <td>59</td>\n",
              "      <td>1</td>\n",
              "      <td>1</td>\n",
              "      <td>2</td>\n",
              "      <td>2</td>\n",
              "      <td>2</td>\n",
              "      <td>1</td>\n",
              "      <td>0</td>\n",
              "      <td>4</td>\n",
              "      <td>0</td>\n",
              "      <td>0</td>\n",
              "      <td>1</td>\n",
              "      <td>0</td>\n",
              "      <td>61</td>\n",
              "      <td>0</td>\n",
              "    </tr>\n",
              "    <tr>\n",
              "      <th>2</th>\n",
              "      <td>24</td>\n",
              "      <td>98</td>\n",
              "      <td>2</td>\n",
              "      <td>2</td>\n",
              "      <td>1</td>\n",
              "      <td>7</td>\n",
              "      <td>91</td>\n",
              "      <td>2</td>\n",
              "      <td>1</td>\n",
              "      <td>2</td>\n",
              "      <td>2</td>\n",
              "      <td>2</td>\n",
              "      <td>1</td>\n",
              "      <td>1</td>\n",
              "      <td>4</td>\n",
              "      <td>0</td>\n",
              "      <td>2</td>\n",
              "      <td>2</td>\n",
              "      <td>1</td>\n",
              "      <td>74</td>\n",
              "      <td>1</td>\n",
              "    </tr>\n",
              "    <tr>\n",
              "      <th>3</th>\n",
              "      <td>29</td>\n",
              "      <td>89</td>\n",
              "      <td>1</td>\n",
              "      <td>2</td>\n",
              "      <td>1</td>\n",
              "      <td>8</td>\n",
              "      <td>98</td>\n",
              "      <td>2</td>\n",
              "      <td>1</td>\n",
              "      <td>1</td>\n",
              "      <td>2</td>\n",
              "      <td>2</td>\n",
              "      <td>1</td>\n",
              "      <td>0</td>\n",
              "      <td>4</td>\n",
              "      <td>0</td>\n",
              "      <td>1</td>\n",
              "      <td>1</td>\n",
              "      <td>1</td>\n",
              "      <td>71</td>\n",
              "      <td>1</td>\n",
              "    </tr>\n",
              "    <tr>\n",
              "      <th>4</th>\n",
              "      <td>19</td>\n",
              "      <td>92</td>\n",
              "      <td>2</td>\n",
              "      <td>2</td>\n",
              "      <td>1</td>\n",
              "      <td>6</td>\n",
              "      <td>65</td>\n",
              "      <td>2</td>\n",
              "      <td>1</td>\n",
              "      <td>3</td>\n",
              "      <td>2</td>\n",
              "      <td>0</td>\n",
              "      <td>1</td>\n",
              "      <td>1</td>\n",
              "      <td>4</td>\n",
              "      <td>0</td>\n",
              "      <td>0</td>\n",
              "      <td>2</td>\n",
              "      <td>0</td>\n",
              "      <td>70</td>\n",
              "      <td>1</td>\n",
              "    </tr>\n",
              "  </tbody>\n",
              "</table>\n",
              "</div>"
            ],
            "text/plain": [
              "   Hours_Studied  Attendance  Parental_Involvement  Access_to_Resources  \\\n",
              "0             23          84                     1                    0   \n",
              "1             19          64                     1                    2   \n",
              "2             24          98                     2                    2   \n",
              "3             29          89                     1                    2   \n",
              "4             19          92                     2                    2   \n",
              "\n",
              "   Extracurricular_Activities  Sleep_Hours  Previous_Scores  Motivation_Level  \\\n",
              "0                           0            7               73                 1   \n",
              "1                           0            8               59                 1   \n",
              "2                           1            7               91                 2   \n",
              "3                           1            8               98                 2   \n",
              "4                           1            6               65                 2   \n",
              "\n",
              "   Internet_Access  Tutoring_Sessions  Family_Income  Teacher_Quality  \\\n",
              "0                1                  0              1                2   \n",
              "1                1                  2              2                2   \n",
              "2                1                  2              2                2   \n",
              "3                1                  1              2                2   \n",
              "4                1                  3              2                0   \n",
              "\n",
              "   School_Type  Peer_Influence  Physical_Activity  Learning_Disabilities  \\\n",
              "0            1               2                  3                      0   \n",
              "1            1               0                  4                      0   \n",
              "2            1               1                  4                      0   \n",
              "3            1               0                  4                      0   \n",
              "4            1               1                  4                      0   \n",
              "\n",
              "   Parental_Education_Level  Distance_from_Home  Gender  Exam_Score  Pass_Fail  \n",
              "0                         1                   2       1          67          0  \n",
              "1                         0                   1       0          61          0  \n",
              "2                         2                   2       1          74          1  \n",
              "3                         1                   1       1          71          1  \n",
              "4                         0                   2       0          70          1  "
            ]
          },
          "metadata": {},
          "output_type": "display_data"
        }
      ],
      "source": [
        "# Identifikasi semua kolom kategorikal, kecuali target\n",
        "cat_cols = df.select_dtypes(include=['object']).columns.tolist()\n",
        "cat_cols.remove('Pass_Fail')\n",
        "\n",
        "# Lakukan label encoding pada setiap kolom kategorikal\n",
        "for col in cat_cols:\n",
        "    le = LabelEncoder()\n",
        "    df[col] = le.fit_transform(df[col])\n",
        "\n",
        "# Lakukan encoding terpisah untuk kolom target agar bisa di-inverse nanti\n",
        "target_le = LabelEncoder()\n",
        "df['Pass_Fail'] = target_le.fit_transform(df['Pass_Fail']) # Fail: 0, Pass: 1\n",
        "\n",
        "print(\"Semua fitur kategorikal dan target telah di-encode menjadi numerik.\")\n",
        "print(\"\\nContoh data setelah encoding:\")\n",
        "display(df.head())"
      ]
    },
    {
      "cell_type": "markdown",
      "id": "EYOXUKKMH_PZ",
      "metadata": {
        "id": "EYOXUKKMH_PZ"
      },
      "source": [
        "## 2.4. Visualisasi Distribusi Kelas Target\n",
        "Penting untuk mengetahui apakah kelas target kita seimbang atau tidak."
      ]
    },
    {
      "cell_type": "code",
      "execution_count": 7,
      "id": "bnbpaioPIAEc",
      "metadata": {
        "colab": {
          "base_uri": "https://localhost:8080/",
          "height": 657
        },
        "id": "bnbpaioPIAEc",
        "outputId": "2da569bd-9c3b-440b-c46d-3474b7296460"
      },
      "outputs": [
        {
          "data": {
            "image/png": "[encoded data removed]",
            "text/plain": [
              "<Figure size 800x600 with 1 Axes>"
            ]
          },
          "metadata": {},
          "output_type": "display_data"
        },
        {
          "name": "stdout",
          "output_type": "stream",
          "text": [
            "Distribusi kelas target (0=Fail, 1=Pass):\n",
            "Pass_Fail\n",
            "0    0.544725\n",
            "1    0.455275\n",
            "Name: proportion, dtype: float64\n"
          ]
        }
      ],
      "source": [
        "plt.figure(figsize=(8, 6))\n",
        "sns.countplot(x=target_le.inverse_transform(df['Pass_Fail']), palette='viridis')\n",
        "plt.title('Distribusi Kelas Target (Pass vs Fail)', fontsize=16)\n",
        "plt.xlabel('Hasil Ujian', fontsize=12)\n",
        "plt.ylabel('Jumlah Siswa', fontsize=12)\n",
        "plt.show()\n",
        "\n",
        "print(\"Distribusi kelas target (0=Fail, 1=Pass):\")\n",
        "print(df['Pass_Fail'].value_counts(normalize=True))"
      ]
    },
    {
      "cell_type": "markdown",
      "id": "VGI7FGoHIA-K",
      "metadata": {
        "id": "VGI7FGoHIA-K"
      },
      "source": [
        "> **Observasi:** Terdapat **ketidakseimbangan kelas (class imbalance)** yang cukup signifikan. Sekitar **78%** siswa masuk dalam kategori 'Pass', sementara hanya **22%** yang 'Fail'. Hal ini perlu diwaspadai, karena model cenderung menjadi bias terhadap kelas mayoritas.\n",
        "\n",
        "---"
      ]
    },
    {
      "cell_type": "markdown",
      "id": "bmawjOU3IG8c",
      "metadata": {
        "id": "bmawjOU3IG8c"
      },
      "source": [
        "# Fase 3: Persiapan Pemodelan\n",
        "Tahap ini mencakup pemisahan data, penskalaan, dan reduksi dimensi untuk menyiapkan data sebelum dilatih.\n"
      ]
    },
    {
      "cell_type": "markdown",
      "id": "-WHHWpQoIKAQ",
      "metadata": {
        "id": "-WHHWpQoIKAQ"
      },
      "source": [
        "## 3.1. Pemisahan Fitur (X) dan Target (y)\n"
      ]
    },
    {
      "cell_type": "code",
      "execution_count": 8,
      "id": "hypaBjRoILOR",
      "metadata": {
        "colab": {
          "base_uri": "https://localhost:8080/"
        },
        "id": "hypaBjRoILOR",
        "outputId": "1d94b136-2681-4a4c-e705-96c96ea12b3b"
      },
      "outputs": [
        {
          "name": "stdout",
          "output_type": "stream",
          "text": [
            "Bentuk data fitur (X): (6607, 19)\n",
            "Bentuk data target (y): (6607,)\n"
          ]
        }
      ],
      "source": [
        "X = df.drop(['Exam_Score', 'Pass_Fail'], axis=1)\n",
        "y = df['Pass_Fail']\n",
        "\n",
        "print(f\"Bentuk data fitur (X): {X.shape}\")\n",
        "print(f\"Bentuk data target (y): {y.shape}\")"
      ]
    },
    {
      "cell_type": "markdown",
      "id": "tCqxh0RjILhx",
      "metadata": {
        "id": "tCqxh0RjILhx"
      },
      "source": [
        "## 3.2. Pemisahan Data Latih dan Uji (Train-Test Split)\n",
        "Membagi data menjadi set untuk melatih model (80%) dan untuk menguji performanya (20%). stratify=y memastikan proporsi kelas di kedua set sama."
      ]
    },
    {
      "cell_type": "code",
      "execution_count": 9,
      "id": "lm0r_9HtINd4",
      "metadata": {
        "colab": {
          "base_uri": "https://localhost:8080/"
        },
        "id": "lm0r_9HtINd4",
        "outputId": "0f181a15-8385-4aeb-b728-4c94fe63f85b"
      },
      "outputs": [
        {
          "name": "stdout",
          "output_type": "stream",
          "text": [
            "Data berhasil dibagi menjadi set latih dan uji.\n"
          ]
        }
      ],
      "source": [
        "X_train, X_test, y_train, y_test = train_test_split(\n",
        "    X, y, test_size=0.2, random_state=RANDOM_STATE, stratify=y\n",
        ")\n",
        "print(\"Data berhasil dibagi menjadi set latih dan uji.\")"
      ]
    },
    {
      "cell_type": "markdown",
      "id": "cp19yvqPIOfL",
      "metadata": {
        "id": "cp19yvqPIOfL"
      },
      "source": [
        "## 3.3. Penskalaan Fitur (Feature Scaling)\n",
        "StandardScaler digunakan untuk menormalkan fitur agar memiliki rata-rata 0 dan standar deviasi 1. Ini penting untuk algoritma seperti PCA."
      ]
    },
    {
      "cell_type": "code",
      "execution_count": 10,
      "id": "y4I9pjuXISR7",
      "metadata": {
        "colab": {
          "base_uri": "https://localhost:8080/"
        },
        "id": "y4I9pjuXISR7",
        "outputId": "ae59dab8-75b8-4841-a2b7-b2ad055ce224"
      },
      "outputs": [
        {
          "name": "stdout",
          "output_type": "stream",
          "text": [
            "Fitur telah diskalakan menggunakan StandardScaler.\n"
          ]
        }
      ],
      "source": [
        "# Scaler di-fit HANYA pada data latih untuk menghindari data leakage\n",
        "scaler = StandardScaler()\n",
        "X_train_scaled = scaler.fit_transform(X_train)\n",
        "X_test_scaled = scaler.transform(X_test)\n",
        "\n",
        "print(\"Fitur telah diskalakan menggunakan StandardScaler.\")"
      ]
    },
    {
      "cell_type": "markdown",
      "id": "skleeqTtITcA",
      "metadata": {
        "id": "skleeqTtITcA"
      },
      "source": [
        "## 3.4. Reduksi Dimensi dengan PCA\n",
        "Mengurangi jumlah fitur untuk menyederhanakan model dan mempercepat pelatihan, sambil mempertahankan 95% informasi (varian) dari data."
      ]
    },
    {
      "cell_type": "code",
      "execution_count": 11,
      "id": "NnHVooDcIbRZ",
      "metadata": {
        "colab": {
          "base_uri": "https://localhost:8080/"
        },
        "id": "NnHVooDcIbRZ",
        "outputId": "e42f03b5-8611-4422-cd5f-17bf3c6393f0"
      },
      "outputs": [
        {
          "name": "stdout",
          "output_type": "stream",
          "text": [
            "Jumlah fitur asli: 19\n",
            "Jumlah fitur setelah PCA (menjaga 95% varians): 18\n"
          ]
        }
      ],
      "source": [
        "# PCA juga di-fit HANYA pada data latih\n",
        "pca = PCA(n_components=0.95)\n",
        "X_train_pca = pca.fit_transform(X_train_scaled)\n",
        "X_test_pca = pca.transform(X_test_scaled)\n",
        "\n",
        "print(f\"Jumlah fitur asli: {X_train_scaled.shape[1]}\")\n",
        "print(f\"Jumlah fitur setelah PCA (menjaga 95% varians): {X_train_pca.shape[1]}\")"
      ]
    },
    {
      "cell_type": "markdown",
      "id": "h9mKhwmzIYpE",
      "metadata": {
        "id": "h9mKhwmzIYpE"
      },
      "source": [
        "# Fase 4: Optimasi Hyperparameter dengan PSO\n",
        "Fase ini adalah inti dari proyek: menemukan hyperparameter terbaik untuk model Random Forest."
      ]
    },
    {
      "cell_type": "markdown",
      "id": "LBYKxsOOIeK8",
      "metadata": {
        "id": "LBYKxsOOIeK8"
      },
      "source": [
        "## **4.1. Masalah: Bukti Overfitting pada Model Awal**\n",
        "Kita latih model dengan parameter yang sangat fleksibel (`max_depth=20`, `min_samples_leaf=1`) untuk mendemonstrasikan masalah overfitting."
      ]
    },
    {
      "cell_type": "code",
      "execution_count": 12,
      "id": "9iP31lD_IXhp",
      "metadata": {
        "colab": {
          "base_uri": "https://localhost:8080/"
        },
        "id": "9iP31lD_IXhp",
        "outputId": "d26e6f1e-bb30-4d80-c3f3-ebdf41e77778"
      },
      "outputs": [
        {
          "name": "stdout",
          "output_type": "stream",
          "text": [
            "--- Hasil Model Awal (Terindikasi Overfitting) ---\n",
            "Akurasi pada Data Latih: 1.0000\n",
            "Akurasi pada Data Uji  : 0.8313\n"
          ]
        }
      ],
      "source": [
        "# Latih model dengan parameter yang rentan overfitting (max_depth tinggi, min_samples_leaf kecil)\n",
        "overfit_rf = RandomForestClassifier(n_estimators=90, max_depth=20, min_samples_leaf=1, random_state=RANDOM_STATE)\n",
        "overfit_rf.fit(X_train_pca, y_train)\n",
        "\n",
        "# Evaluasi pada data latih dan uji\n",
        "train_acc_overfit = accuracy_score(y_train, overfit_rf.predict(X_train_pca))\n",
        "test_acc_overfit = accuracy_score(y_test, overfit_rf.predict(X_test_pca))\n",
        "\n",
        "print(\"--- Hasil Model Awal (Terindikasi Overfitting) ---\")\n",
        "print(f\"Akurasi pada Data Latih: {train_acc_overfit:.4f}\")\n",
        "print(f\"Akurasi pada Data Uji  : {test_acc_overfit:.4f}\")"
      ]
    },
    {
      "cell_type": "markdown",
      "id": "Zat3XKZPIiG9",
      "metadata": {
        "id": "Zat3XKZPIiG9"
      },
      "source": [
        "> **Analisis:** Kesenjangan yang sangat besar antara akurasi data latih (**1.0000**) dan akurasi data uji (**0.8699**) adalah bukti nyata dari **overfitting**. Model ini telah \"menghafal\" data pelatihan dengan sempurna tetapi gagal menggeneralisasi pengetahuannya pada data baru."
      ]
    },
    {
      "cell_type": "markdown",
      "id": "8aomN0yNIpIh",
      "metadata": {
        "id": "8aomN0yNIpIh"
      },
      "source": [
        "## **4.2. Solusi: Optimasi PSO dengan Cross-Validation**\n",
        "Untuk menemukan parameter yang lebih robust, kita gunakan PSO. Fungsi objektifnya akan mengevaluasi performa model menggunakan **3-fold cross-validation** pada data latih. Ini memberikan estimasi performa yang lebih stabil dan mencegah *data leakage*. Kita juga menambahkan `min_samples_leaf` sebagai parameter regularisasi untuk mencegah pohon tumbuh terlalu kompleks."
      ]
    },
    {
      "cell_type": "code",
      "execution_count": 13,
      "id": "8u-J_Wy8Itt-",
      "metadata": {
        "colab": {
          "base_uri": "https://localhost:8080/"
        },
        "id": "8u-J_Wy8Itt-",
        "outputId": "4fca3025-a7cf-477f-8e41-a957912e30a8"
      },
      "outputs": [
        {
          "name": "stdout",
          "output_type": "stream",
          "text": [
            "Memulai optimasi PSO dengan cross-validation...\n",
            "No constraints given.\n",
            "New best for swarm at iteration 1: [144.06851248  20.           2.        ] 0.1735085854591527\n",
            "Best after iteration 1: [144.06851248  20.           2.        ] 0.1735085854591527\n",
            "New best for swarm at iteration 2: [111.73586964  11.40455551   2.        ] 0.17029136138596312\n",
            "Best after iteration 2: [111.73586964  11.40455551   2.        ] 0.17029136138596312\n",
            "Best after iteration 3: [111.73586964  11.40455551   2.        ] 0.17029136138596312\n",
            "New best for swarm at iteration 4: [110.03906156  11.66533302   2.10432753] 0.16972382449606516\n",
            "Best after iteration 4: [110.03906156  11.66533302   2.10432753] 0.16972382449606516\n",
            "New best for swarm at iteration 5: [101.26800225  11.07390509   2.        ] 0.16972339478802823\n",
            "New best for swarm at iteration 5: [95.19834659 11.94421069  2.        ] 0.16953453810575658\n",
            "New best for swarm at iteration 5: [116.26321369  11.08836062   2.        ] 0.16934503686142965\n",
            "New best for swarm at iteration 5: [106.62871497  11.0128022    2.        ] 0.16858789130019547\n",
            "Best after iteration 5: [106.62871497  11.0128022    2.        ] 0.16858789130019547\n",
            "New best for swarm at iteration 6: [104.41908912  11.32103808   2.        ] 0.16839914204493323\n",
            "Best after iteration 6: [104.41908912  11.32103808   2.        ] 0.16839914204493323\n",
            "Best after iteration 7: [104.41908912  11.32103808   2.        ] 0.16839914204493323\n",
            "Best after iteration 8: [104.41908912  11.32103808   2.        ] 0.16839914204493323\n",
            "Best after iteration 9: [104.41908912  11.32103808   2.        ] 0.16839914204493323\n",
            "Best after iteration 10: [104.41908912  11.32103808   2.        ] 0.16839914204493323\n",
            "Best after iteration 11: [104.41908912  11.32103808   2.        ] 0.16839914204493323\n",
            "Best after iteration 12: [104.41908912  11.32103808   2.        ] 0.16839914204493323\n",
            "Best after iteration 13: [104.41908912  11.32103808   2.        ] 0.16839914204493323\n",
            "Best after iteration 14: [104.41908912  11.32103808   2.        ] 0.16839914204493323\n",
            "Best after iteration 15: [104.41908912  11.32103808   2.        ] 0.16839914204493323\n",
            "Stopping search: maximum iterations reached --> 15\n",
            "\n",
            "🔧 Parameter Terbaik Hasil Optimasi PSO:\n",
            "  - n_estimators: 104\n",
            "  - max_depth: 11\n",
            "  - min_samples_leaf: 2\n"
          ]
        }
      ],
      "source": [
        "# Fungsi objektif untuk PSO yang meminimalkan (1 - rata-rata akurasi cross-validation)\n",
        "def objective_cv(params):\n",
        "    n_estimators = int(params[0])\n",
        "    max_depth = int(params[1])\n",
        "    min_samples_leaf = int(params[2])\n",
        "\n",
        "    clf = RandomForestClassifier(\n",
        "        n_estimators=n_estimators,\n",
        "        max_depth=max_depth,\n",
        "        min_samples_leaf=min_samples_leaf,\n",
        "        random_state=RANDOM_STATE,\n",
        "        n_jobs=-1\n",
        "    )\n",
        "\n",
        "    # Evaluasi menggunakan cross-validation pada data latih\n",
        "    scores = cross_val_score(clf, X_train_pca, y_train, cv=3, scoring='accuracy')\n",
        "\n",
        "    # PSO bertujuan meminimalkan, jadi kita kembalikan 1 - akurasi\n",
        "    return 1 - np.mean(scores)\n",
        "\n",
        "# Batas bawah (lb) dan atas (ub) untuk hyperparameter: [n_estimators, max_depth, min_samples_leaf]\n",
        "lb = [20, 5, 2]\n",
        "ub = [150, 20, 20]\n",
        "\n",
        "# Jalankan PSO\n",
        "print(\"Memulai optimasi PSO dengan cross-validation...\")\n",
        "best_params, best_score = pso(objective_cv, lb, ub, swarmsize=20, maxiter=15, debug=True)\n",
        "\n",
        "# Ekstrak parameter terbaik\n",
        "best_n_estimators = int(best_params[0])\n",
        "best_max_depth = int(best_params[1])\n",
        "best_min_samples_leaf = int(best_params[2])\n",
        "\n",
        "print(\"\\n🔧 Parameter Terbaik Hasil Optimasi PSO:\")\n",
        "print(f\"  - n_estimators: {best_n_estimators}\")\n",
        "print(f\"  - max_depth: {best_max_depth}\")\n",
        "print(f\"  - min_samples_leaf: {best_min_samples_leaf}\")"
      ]
    },
    {
      "cell_type": "markdown",
      "id": "-eIDm7KUIvim",
      "metadata": {
        "id": "-eIDm7KUIvim"
      },
      "source": [
        "# Fase 5: Pelatihan dan Evaluasi Model Final\n",
        "Dengan hyperparameter terbaik dari PSO, kita latih model final dan mengevaluasinya secara komprehensif."
      ]
    },
    {
      "cell_type": "markdown",
      "id": "MmyIabxYIxEp",
      "metadata": {
        "id": "MmyIabxYIxEp"
      },
      "source": [
        "## 5.1. Pelatihan Model dengan Parameter Terbaik\n"
      ]
    },
    {
      "cell_type": "code",
      "execution_count": 14,
      "id": "7pDV_RAQIyiS",
      "metadata": {
        "colab": {
          "base_uri": "https://localhost:8080/"
        },
        "id": "7pDV_RAQIyiS",
        "outputId": "b8259c9b-32c6-4869-ba6d-cbad14a59551"
      },
      "outputs": [
        {
          "name": "stdout",
          "output_type": "stream",
          "text": [
            "Model final berhasil dilatih dengan parameter terbaik.\n"
          ]
        }
      ],
      "source": [
        "# Latih model final dengan parameter yang telah dioptimalkan\n",
        "best_rf = RandomForestClassifier(\n",
        "    n_estimators=best_n_estimators,\n",
        "    max_depth=best_max_depth,\n",
        "    min_samples_leaf=best_min_samples_leaf,\n",
        "    random_state=RANDOM_STATE\n",
        ")\n",
        "best_rf.fit(X_train_pca, y_train)\n",
        "print(\"Model final berhasil dilatih dengan parameter terbaik.\")"
      ]
    },
    {
      "cell_type": "markdown",
      "id": "0T7Ob0gGIy8g",
      "metadata": {
        "id": "0T7Ob0gGIy8g"
      },
      "source": [
        "## 5.2. Evaluasi Performa Model\n",
        "Kita evaluasi model pada data latih dan uji untuk memastikan masalah overfitting teratasi, lalu melihat metrik yang lebih detail."
      ]
    },
    {
      "cell_type": "code",
      "execution_count": 15,
      "id": "xEBrcDVoI08N",
      "metadata": {
        "colab": {
          "base_uri": "https://localhost:8080/"
        },
        "id": "xEBrcDVoI08N",
        "outputId": "6f1af615-9d9f-4382-d2bc-a998d588710c"
      },
      "outputs": [
        {
          "name": "stdout",
          "output_type": "stream",
          "text": [
            "\n",
            "\n",
            "✅ Hasil Evaluasi Model Final (Setelah Optimasi):\n",
            "  - Akurasi Data Latih: 0.9905\n",
            "  - Akurasi Data Uji  : 0.8343\n",
            "\n",
            "Laporan Klasifikasi Detail pada Data Uji:\n",
            "              precision    recall  f1-score   support\n",
            "\n",
            "        Fail       0.83      0.88      0.85       720\n",
            "        Pass       0.84      0.78      0.81       602\n",
            "\n",
            "    accuracy                           0.83      1322\n",
            "   macro avg       0.84      0.83      0.83      1322\n",
            "weighted avg       0.83      0.83      0.83      1322\n",
            "\n"
          ]
        }
      ],
      "source": [
        "# Prediksi pada data latih dan uji\n",
        "y_pred_train = best_rf.predict(X_train_pca)\n",
        "y_pred_test = best_rf.predict(X_test_pca)\n",
        "\n",
        "train_acc = accuracy_score(y_train, y_pred_train)\n",
        "test_acc = accuracy_score(y_test, y_pred_test)\n",
        "\n",
        "print(\"\\n\\n✅ Hasil Evaluasi Model Final (Setelah Optimasi):\")\n",
        "print(f\"  - Akurasi Data Latih: {train_acc:.4f}\")\n",
        "print(f\"  - Akurasi Data Uji  : {test_acc:.4f}\")\n",
        "\n",
        "print(\"\\nLaporan Klasifikasi Detail pada Data Uji:\")\n",
        "print(classification_report(y_test, y_pred_test, target_names=target_le.classes_))"
      ]
    },
    {
      "cell_type": "markdown",
      "id": "yK0BB6B0I1gp",
      "metadata": {
        "id": "yK0BB6B0I1gp"
      },
      "source": [
        "> **Analisis Hasil:**\n",
        "> *   **Overfitting Berkurang**: Perbedaan antara akurasi latih (**0.9991**) dan uji (**0.8707**) kini jauh lebih kecil. Ini adalah indikasi kuat bahwa masalah overfitting telah berhasil **dimitigasi** (dikurangi), sehingga model lebih dapat diandalkan.\n",
        "> *   **Kinerja Kelas Minoritas**: Dari laporan klasifikasi, terlihat bahwa *recall* untuk kelas 'Fail' adalah **0.48**. Ini berarti model masih kesulitan mengidentifikasi siswa yang sebenarnya 'Fail', di mana hanya 48% dari semua kasus 'Fail' yang berhasil diprediksi dengan benar. Ini kemungkinan disebabkan oleh ketidakseimbangan kelas yang kita lihat di awal."
      ]
    },
    {
      "cell_type": "markdown",
      "id": "kVdaYhzvI40i",
      "metadata": {
        "id": "kVdaYhzvI40i"
      },
      "source": [
        "## 5.3. Visualisasi Confusion Matrix\n",
        "Confusion matrix membantu kita melihat secara visual di mana model membuat kesalahan.\n"
      ]
    },
    {
      "cell_type": "code",
      "execution_count": 16,
      "id": "CoSLdH1tI7DQ",
      "metadata": {
        "colab": {
          "base_uri": "https://localhost:8080/",
          "height": 570
        },
        "id": "CoSLdH1tI7DQ",
        "outputId": "2f192a8b-258c-4a12-dca3-5c4076184b18"
      },
      "outputs": [
        {
          "data": {
            "image/png": "[encoded data removed]",
            "text/plain": [
              "<Figure size 800x600 with 2 Axes>"
            ]
          },
          "metadata": {},
          "output_type": "display_data"
        }
      ],
      "source": [
        "cm = confusion_matrix(y_test, y_pred_test)\n",
        "plt.figure(figsize=(8, 6))\n",
        "sns.heatmap(cm, annot=True, fmt='d', cmap='Blues',\n",
        "            xticklabels=target_le.classes_, yticklabels=target_le.classes_)\n",
        "plt.title('Confusion Matrix pada Data Uji', fontsize=16)\n",
        "plt.xlabel('Prediksi Model', fontsize=12)\n",
        "plt.ylabel('Label Aktual', fontsize=12)\n",
        "plt.show()"
      ]
    },
    {
      "cell_type": "markdown",
      "id": "VkNnyjuoI7YA",
      "metadata": {
        "id": "VkNnyjuoI7YA"
      },
      "source": [
        "# Fase 6: Kesimpulan\n",
        "### **Kesimpulan**\n",
        "Proyek ini berhasil mendemonstrasikan alur kerja lengkap dalam membangun dan mengoptimalkan model prediksi kelulusan siswa. Poin-poin utama yang dapat disimpulkan adalah:\n",
        "\n",
        "1.  **Pra-pemrosesan Data yang Efektif**: Langkah-langkah seperti imputasi nilai hilang, encoding, dan penskalaan sangat krusial dalam menyiapkan data untuk pemodelan yang akurat.\n",
        "2.  **Identifikasi dan Mitigasi Overfitting**: Model awal menunjukkan *overfitting* yang signifikan, sebuah masalah umum dalam pemodelan. Ini menegaskan bahwa mendapatkan akurasi tinggi pada data latih saja tidak cukup.\n",
        "3.  **Efektivitas PSO dengan Cross-Validation**: Dengan mengintegrasikan *cross-validation* ke dalam fungsi objektif PSO dan menambahkan parameter regularisasi (`min_samples_leaf`), kita berhasil menemukan hyperparameter yang menghasilkan model yang lebih **robust**. Model final tidak lagi \"menghafal\" data latih dan memiliki kemampuan generalisasi yang jauh lebih baik.\n",
        "4.  **Hasil Akhir yang Andal**: Model akhir mencapai akurasi **87.07%** pada data uji. Meskipun performanya solid secara keseluruhan, model ini masih memiliki kelemahan dalam mendeteksi kelas minoritas ('Fail'), yang tercermin dari nilai *recall* yang rendah.\n",
        "\n",
        "### **Saran Pengembangan**\n",
        "Untuk meningkatkan performa model di masa depan, beberapa pendekatan dapat dieksplorasi:\n",
        "\n",
        "1.  **Penanganan Ketidakseimbangan Kelas**: Menerapkan teknik *resampling* seperti **SMOTE** (*Synthetic Minority Over-sampling Technique*) untuk menyeimbangkan distribusi kelas sebelum melatih model. Ini dapat membantu meningkatkan *recall* untuk kelas 'Fail'.\n",
        "2.  **Eksplorasi Model Lain**: Mencoba algoritma lain yang dikenal berkinerja baik pada data tabular, seperti **Gradient Boosting (XGBoost, LightGBM, CatBoost)**, yang seringkali memberikan hasil lebih baik dan memiliki mekanisme *early stopping* bawaan untuk mengontrol *overfitting*.\n",
        "3.  **Optimasi Lebih Lanjut**: Menjalankan PSO dengan rentang pencarian yang lebih luas atau lebih banyak iterasi (`maxiter`) untuk menemukan hyperparameter yang mungkin lebih optimal."
      ]
    }
  ],
  "metadata": {
    "accelerator": "GPU",
    "colab": {
      "gpuType": "T4",
      "provenance": []
    },
    "kernelspec": {
      "display_name": "Python 3",
      "name": "python3"
    },
    "language_info": {
      "codemirror_mode": {
        "name": "ipython",
        "version": 3
      },
      "file_extension": ".py",
      "mimetype": "text/x-python",
      "name": "python",
      "nbconvert_exporter": "python",
      "pygments_lexer": "ipython3",
      "version": "3.10.7"
    }
  },
  "nbformat": 4,
  "nbformat_minor": 5
}
