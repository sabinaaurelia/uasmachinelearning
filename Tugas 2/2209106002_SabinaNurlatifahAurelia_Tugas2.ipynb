{
 "cells": [
  {
   "cell_type": "markdown",
   "id": "aa1418ce",
   "metadata": {},
   "source": [
    "### TUGAS 2 MACHINE LEARNING"
   ]
  },
  {
   "cell_type": "markdown",
   "id": "3bfed35c",
   "metadata": {},
   "source": [
    "#### Nama: Sabina Nurlatifah Aurelia"
   ]
  },
  {
   "cell_type": "markdown",
   "id": "468ea7c7",
   "metadata": {},
   "source": [
    "#### NIM: 2209106002"
   ]
  },
  {
   "cell_type": "markdown",
   "id": "3996c277",
   "metadata": {},
   "source": [
    "    Link Dataset\n",
    "https://www.kaggle.com/datasets/madhuraatmarambhagat/crop-recommendation-dataset/data"
   ]
  },
  {
   "cell_type": "markdown",
   "id": "73e13f43",
   "metadata": {},
   "source": [
    "    Deskripsi tentang dataset"
   ]
  },
  {
   "cell_type": "markdown",
   "id": "e0c05c97",
   "metadata": {},
   "source": [
    "Dataset ini dirancang untuk memprediksi jenis tanaman paling cocok berdasarkan kondisi tanah dan iklim. Ini berguna dalam pertanian presisi, membantu petani dan pengambil kebijakan menentukan tanaman terbaik untuk ditanam \n",
    "\n",
    "Dataset mencakup 7 fitur agro-klimatik seperti kandungan nitrogen, fosfor, kalium, suhu, kelembapan, pH tanah, dan curah hujan, dengan label output berupa nama tanaman (contoh: padi, jagung, kapas, dll). Tujuannya adalah membangun model machine learning yang dapat memberikan rekomendasi tanaman optimal berdasarkan kondisi lingkungan."
   ]
  },
  {
   "cell_type": "markdown",
   "id": "470f4bf7",
   "metadata": {},
   "source": [
    "    Import Library"
   ]
  },
  {
   "cell_type": "code",
   "execution_count": null,
   "id": "f162f481",
   "metadata": {},
   "outputs": [],
   "source": [
    "import pandas as pd\n",
    "import numpy as np\n",
    "from sklearn.model_selection import train_test_split\n",
    "from sklearn.preprocessing import StandardScaler, LabelEncoder\n",
    "from tensorflow.keras.models import Sequential\n",
    "from tensorflow.keras.layers import Dense, Dropout\n",
    "from tensorflow.keras.utils import to_categorical\n",
    "import matplotlib.pyplot as plt\n"
   ]
  },
  {
   "cell_type": "markdown",
   "id": "fd67cdce",
   "metadata": {},
   "source": [
    "    Read Dataset"
   ]
  },
  {
   "cell_type": "code",
   "execution_count": 2,
   "id": "d4991d26",
   "metadata": {},
   "outputs": [],
   "source": [
    "df = pd.read_csv(\"crop_recommendation.csv\")"
   ]
  },
  {
   "cell_type": "markdown",
   "id": "fcf97df6",
   "metadata": {},
   "source": [
    "    Preprocessing"
   ]
  },
  {
   "cell_type": "code",
   "execution_count": 3,
   "id": "a82b5538",
   "metadata": {},
   "outputs": [],
   "source": [
    "# Data Cleaning\n",
    "df = df.drop_duplicates()\n",
    "df = df.dropna()\n",
    "\n",
    "# Encode label tanaman\n",
    "le = LabelEncoder()\n",
    "df['label_encoded'] = le.fit_transform(df['label'])\n",
    "\n",
    "# Pisah fitur dan target\n",
    "X = df.drop(['label', 'label_encoded'], axis=1)\n",
    "y = to_categorical(df['label_encoded'])\n",
    "\n",
    "# Normalisasi fitur\n",
    "scaler = StandardScaler()\n",
    "X_scaled = scaler.fit_transform(X)\n",
    "\n",
    "# Split data\n",
    "X_train, X_test, y_train, y_test = train_test_split(X_scaled, y, test_size=0.2, random_state=42)\n"
   ]
  },
  {
   "cell_type": "markdown",
   "id": "cc4ffc14",
   "metadata": {},
   "source": [
    "    Mengapa melakukan preprocessing?\n",
    "\n",
    "Preprocessing bertujuan untuk menyiapkan data agar bisa dipahami oleh model.\n",
    "\n",
    "- Menghapus duplikasi → Menghindari data berulang.\n",
    "- Menangani nilai kosong → Agar data lengkap dan valid.\n",
    "- Standarisasi (Z-score) → Menyamakan skala semua fitur (agar model belajar lebih baik).\n",
    "- Encoding label → Ubah nama tanaman jadi angka agar bisa diklasifikasi.\n",
    "- Split data (train-test) → Pisahkan data untuk melatih dan menguji model secara adil."
   ]
  },
  {
   "cell_type": "markdown",
   "id": "c4f2ab3e",
   "metadata": {},
   "source": [
    "    Arsitektur deep learning: MLP (Multilayer Perceptron)"
   ]
  },
  {
   "cell_type": "code",
   "execution_count": 4,
   "id": "6bc9f4c3",
   "metadata": {},
   "outputs": [
    {
     "name": "stdout",
     "output_type": "stream",
     "text": [
      "Epoch 1/100\n",
      "88/88 [==============================] - 1s 4ms/step - loss: 2.5445 - accuracy: 0.3111 - val_loss: 1.8702 - val_accuracy: 0.5710\n",
      "Epoch 2/100\n",
      "88/88 [==============================] - 0s 2ms/step - loss: 1.4328 - accuracy: 0.6179 - val_loss: 0.8905 - val_accuracy: 0.8182\n",
      "Epoch 3/100\n",
      "88/88 [==============================] - 0s 2ms/step - loss: 0.8442 - accuracy: 0.7493 - val_loss: 0.5419 - val_accuracy: 0.8580\n",
      "Epoch 4/100\n",
      "88/88 [==============================] - 0s 2ms/step - loss: 0.6118 - accuracy: 0.8033 - val_loss: 0.3860 - val_accuracy: 0.9119\n",
      "Epoch 5/100\n",
      "88/88 [==============================] - 0s 2ms/step - loss: 0.4935 - accuracy: 0.8366 - val_loss: 0.3136 - val_accuracy: 0.9119\n",
      "Epoch 6/100\n",
      "88/88 [==============================] - 0s 2ms/step - loss: 0.4168 - accuracy: 0.8622 - val_loss: 0.2609 - val_accuracy: 0.9091\n",
      "Epoch 7/100\n",
      "88/88 [==============================] - 0s 1ms/step - loss: 0.3658 - accuracy: 0.8821 - val_loss: 0.2326 - val_accuracy: 0.9176\n",
      "Epoch 8/100\n",
      "88/88 [==============================] - 0s 2ms/step - loss: 0.3282 - accuracy: 0.8892 - val_loss: 0.1957 - val_accuracy: 0.9347\n",
      "Epoch 9/100\n",
      "88/88 [==============================] - 0s 2ms/step - loss: 0.2800 - accuracy: 0.9070 - val_loss: 0.1804 - val_accuracy: 0.9403\n",
      "Epoch 10/100\n",
      "88/88 [==============================] - 0s 2ms/step - loss: 0.2662 - accuracy: 0.9034 - val_loss: 0.1600 - val_accuracy: 0.9347\n",
      "Epoch 11/100\n",
      "88/88 [==============================] - 0s 2ms/step - loss: 0.2530 - accuracy: 0.9084 - val_loss: 0.1433 - val_accuracy: 0.9460\n",
      "Epoch 12/100\n",
      "88/88 [==============================] - 0s 2ms/step - loss: 0.2228 - accuracy: 0.9190 - val_loss: 0.1539 - val_accuracy: 0.9347\n",
      "Epoch 13/100\n",
      "88/88 [==============================] - 0s 2ms/step - loss: 0.2066 - accuracy: 0.9311 - val_loss: 0.1339 - val_accuracy: 0.9403\n",
      "Epoch 14/100\n",
      "88/88 [==============================] - 0s 2ms/step - loss: 0.2191 - accuracy: 0.9254 - val_loss: 0.1190 - val_accuracy: 0.9602\n",
      "Epoch 15/100\n",
      "88/88 [==============================] - 0s 2ms/step - loss: 0.1861 - accuracy: 0.9403 - val_loss: 0.1182 - val_accuracy: 0.9460\n",
      "Epoch 16/100\n",
      "88/88 [==============================] - 0s 2ms/step - loss: 0.1760 - accuracy: 0.9439 - val_loss: 0.1111 - val_accuracy: 0.9517\n",
      "Epoch 17/100\n",
      "88/88 [==============================] - 0s 2ms/step - loss: 0.1821 - accuracy: 0.9382 - val_loss: 0.1031 - val_accuracy: 0.9659\n",
      "Epoch 18/100\n",
      "88/88 [==============================] - 0s 2ms/step - loss: 0.1615 - accuracy: 0.9474 - val_loss: 0.1134 - val_accuracy: 0.9432\n",
      "Epoch 19/100\n",
      "88/88 [==============================] - 0s 2ms/step - loss: 0.1521 - accuracy: 0.9439 - val_loss: 0.1054 - val_accuracy: 0.9545\n",
      "Epoch 20/100\n",
      "88/88 [==============================] - 0s 1ms/step - loss: 0.1467 - accuracy: 0.9411 - val_loss: 0.1007 - val_accuracy: 0.9574\n",
      "Epoch 21/100\n",
      "88/88 [==============================] - 0s 2ms/step - loss: 0.1401 - accuracy: 0.9503 - val_loss: 0.1022 - val_accuracy: 0.9602\n",
      "Epoch 22/100\n",
      "88/88 [==============================] - 0s 2ms/step - loss: 0.1346 - accuracy: 0.9489 - val_loss: 0.1053 - val_accuracy: 0.9602\n",
      "Epoch 23/100\n",
      "88/88 [==============================] - 0s 2ms/step - loss: 0.1292 - accuracy: 0.9517 - val_loss: 0.1101 - val_accuracy: 0.9489\n",
      "Epoch 24/100\n",
      "88/88 [==============================] - 0s 2ms/step - loss: 0.1235 - accuracy: 0.9545 - val_loss: 0.0812 - val_accuracy: 0.9688\n",
      "Epoch 25/100\n",
      "88/88 [==============================] - 0s 2ms/step - loss: 0.1308 - accuracy: 0.9503 - val_loss: 0.0928 - val_accuracy: 0.9574\n",
      "Epoch 26/100\n",
      "88/88 [==============================] - 0s 2ms/step - loss: 0.1193 - accuracy: 0.9574 - val_loss: 0.0828 - val_accuracy: 0.9659\n",
      "Epoch 27/100\n",
      "88/88 [==============================] - 0s 2ms/step - loss: 0.1295 - accuracy: 0.9503 - val_loss: 0.0804 - val_accuracy: 0.9659\n",
      "Epoch 28/100\n",
      "88/88 [==============================] - 0s 2ms/step - loss: 0.1181 - accuracy: 0.9553 - val_loss: 0.0922 - val_accuracy: 0.9602\n",
      "Epoch 29/100\n",
      "88/88 [==============================] - 0s 2ms/step - loss: 0.1029 - accuracy: 0.9602 - val_loss: 0.0878 - val_accuracy: 0.9688\n",
      "Epoch 30/100\n",
      "88/88 [==============================] - 0s 2ms/step - loss: 0.0981 - accuracy: 0.9666 - val_loss: 0.0851 - val_accuracy: 0.9688\n",
      "Epoch 31/100\n",
      "88/88 [==============================] - 0s 2ms/step - loss: 0.1013 - accuracy: 0.9645 - val_loss: 0.0913 - val_accuracy: 0.9602\n",
      "Epoch 32/100\n",
      "88/88 [==============================] - 0s 3ms/step - loss: 0.1226 - accuracy: 0.9553 - val_loss: 0.0754 - val_accuracy: 0.9744\n",
      "Epoch 33/100\n",
      "88/88 [==============================] - 0s 2ms/step - loss: 0.1013 - accuracy: 0.9631 - val_loss: 0.0833 - val_accuracy: 0.9602\n",
      "Epoch 34/100\n",
      "88/88 [==============================] - 0s 2ms/step - loss: 0.0937 - accuracy: 0.9673 - val_loss: 0.0718 - val_accuracy: 0.9773\n",
      "Epoch 35/100\n",
      "88/88 [==============================] - 0s 2ms/step - loss: 0.0974 - accuracy: 0.9652 - val_loss: 0.0679 - val_accuracy: 0.9716\n",
      "Epoch 36/100\n",
      "88/88 [==============================] - 0s 2ms/step - loss: 0.0959 - accuracy: 0.9652 - val_loss: 0.0656 - val_accuracy: 0.9744\n",
      "Epoch 37/100\n",
      "88/88 [==============================] - 0s 2ms/step - loss: 0.1007 - accuracy: 0.9602 - val_loss: 0.0705 - val_accuracy: 0.9659\n",
      "Epoch 38/100\n",
      "88/88 [==============================] - 0s 2ms/step - loss: 0.0992 - accuracy: 0.9595 - val_loss: 0.0740 - val_accuracy: 0.9659\n",
      "Epoch 39/100\n",
      "88/88 [==============================] - 0s 2ms/step - loss: 0.0825 - accuracy: 0.9688 - val_loss: 0.0657 - val_accuracy: 0.9716\n",
      "Epoch 40/100\n",
      "88/88 [==============================] - 0s 2ms/step - loss: 0.0754 - accuracy: 0.9759 - val_loss: 0.0660 - val_accuracy: 0.9744\n",
      "Epoch 41/100\n",
      "88/88 [==============================] - 0s 2ms/step - loss: 0.0776 - accuracy: 0.9716 - val_loss: 0.0725 - val_accuracy: 0.9631\n",
      "Epoch 42/100\n",
      "88/88 [==============================] - 0s 2ms/step - loss: 0.0803 - accuracy: 0.9659 - val_loss: 0.0670 - val_accuracy: 0.9688\n",
      "Epoch 43/100\n",
      "88/88 [==============================] - 0s 2ms/step - loss: 0.0871 - accuracy: 0.9673 - val_loss: 0.0571 - val_accuracy: 0.9830\n",
      "Epoch 44/100\n",
      "88/88 [==============================] - 0s 2ms/step - loss: 0.0836 - accuracy: 0.9673 - val_loss: 0.0580 - val_accuracy: 0.9744\n",
      "Epoch 45/100\n",
      "88/88 [==============================] - 0s 2ms/step - loss: 0.0738 - accuracy: 0.9787 - val_loss: 0.0681 - val_accuracy: 0.9688\n",
      "Epoch 46/100\n",
      "88/88 [==============================] - 0s 2ms/step - loss: 0.0748 - accuracy: 0.9723 - val_loss: 0.0649 - val_accuracy: 0.9688\n",
      "Epoch 47/100\n",
      "88/88 [==============================] - 0s 2ms/step - loss: 0.0701 - accuracy: 0.9730 - val_loss: 0.0676 - val_accuracy: 0.9716\n",
      "Epoch 48/100\n",
      "88/88 [==============================] - 0s 2ms/step - loss: 0.0735 - accuracy: 0.9744 - val_loss: 0.0614 - val_accuracy: 0.9773\n",
      "Epoch 49/100\n",
      "88/88 [==============================] - 0s 2ms/step - loss: 0.0723 - accuracy: 0.9730 - val_loss: 0.0630 - val_accuracy: 0.9744\n",
      "Epoch 50/100\n",
      "88/88 [==============================] - 0s 2ms/step - loss: 0.0849 - accuracy: 0.9716 - val_loss: 0.0610 - val_accuracy: 0.9688\n",
      "Epoch 51/100\n",
      "88/88 [==============================] - 0s 2ms/step - loss: 0.0643 - accuracy: 0.9773 - val_loss: 0.0598 - val_accuracy: 0.9744\n",
      "Epoch 52/100\n",
      "88/88 [==============================] - 0s 2ms/step - loss: 0.0793 - accuracy: 0.9680 - val_loss: 0.0625 - val_accuracy: 0.9744\n",
      "Epoch 53/100\n",
      "88/88 [==============================] - 0s 2ms/step - loss: 0.0677 - accuracy: 0.9737 - val_loss: 0.0533 - val_accuracy: 0.9830\n",
      "Epoch 54/100\n",
      "88/88 [==============================] - 0s 2ms/step - loss: 0.0637 - accuracy: 0.9702 - val_loss: 0.0534 - val_accuracy: 0.9801\n",
      "Epoch 55/100\n",
      "88/88 [==============================] - 0s 2ms/step - loss: 0.0657 - accuracy: 0.9737 - val_loss: 0.0552 - val_accuracy: 0.9744\n",
      "Epoch 56/100\n",
      "88/88 [==============================] - 0s 2ms/step - loss: 0.0660 - accuracy: 0.9794 - val_loss: 0.0524 - val_accuracy: 0.9801\n",
      "Epoch 57/100\n",
      "88/88 [==============================] - 0s 2ms/step - loss: 0.0589 - accuracy: 0.9787 - val_loss: 0.0553 - val_accuracy: 0.9773\n",
      "Epoch 58/100\n",
      "88/88 [==============================] - 0s 2ms/step - loss: 0.0637 - accuracy: 0.9730 - val_loss: 0.0496 - val_accuracy: 0.9858\n",
      "Epoch 59/100\n",
      "88/88 [==============================] - 0s 2ms/step - loss: 0.0625 - accuracy: 0.9744 - val_loss: 0.0527 - val_accuracy: 0.9801\n",
      "Epoch 60/100\n",
      "88/88 [==============================] - 0s 2ms/step - loss: 0.0656 - accuracy: 0.9737 - val_loss: 0.0487 - val_accuracy: 0.9858\n",
      "Epoch 61/100\n",
      "88/88 [==============================] - 0s 2ms/step - loss: 0.0602 - accuracy: 0.9766 - val_loss: 0.0566 - val_accuracy: 0.9744\n",
      "Epoch 62/100\n",
      "88/88 [==============================] - 0s 2ms/step - loss: 0.0657 - accuracy: 0.9737 - val_loss: 0.0638 - val_accuracy: 0.9744\n",
      "Epoch 63/100\n",
      "88/88 [==============================] - 0s 2ms/step - loss: 0.0581 - accuracy: 0.9780 - val_loss: 0.0550 - val_accuracy: 0.9773\n",
      "Epoch 64/100\n",
      "88/88 [==============================] - 0s 2ms/step - loss: 0.0550 - accuracy: 0.9801 - val_loss: 0.0484 - val_accuracy: 0.9886\n",
      "Epoch 65/100\n",
      "88/88 [==============================] - 0s 2ms/step - loss: 0.0480 - accuracy: 0.9844 - val_loss: 0.0544 - val_accuracy: 0.9773\n",
      "Epoch 66/100\n",
      "88/88 [==============================] - 0s 2ms/step - loss: 0.0578 - accuracy: 0.9830 - val_loss: 0.0455 - val_accuracy: 0.9858\n",
      "Epoch 67/100\n",
      "88/88 [==============================] - 0s 2ms/step - loss: 0.0488 - accuracy: 0.9780 - val_loss: 0.0455 - val_accuracy: 0.9858\n",
      "Epoch 68/100\n",
      "88/88 [==============================] - 0s 2ms/step - loss: 0.0527 - accuracy: 0.9801 - val_loss: 0.0530 - val_accuracy: 0.9744\n",
      "Epoch 69/100\n",
      "88/88 [==============================] - 0s 2ms/step - loss: 0.0491 - accuracy: 0.9851 - val_loss: 0.0531 - val_accuracy: 0.9801\n",
      "Epoch 70/100\n",
      "88/88 [==============================] - 0s 2ms/step - loss: 0.0502 - accuracy: 0.9858 - val_loss: 0.0754 - val_accuracy: 0.9716\n",
      "Epoch 71/100\n",
      "88/88 [==============================] - 0s 2ms/step - loss: 0.0585 - accuracy: 0.9773 - val_loss: 0.0517 - val_accuracy: 0.9801\n",
      "Epoch 72/100\n",
      "88/88 [==============================] - 0s 2ms/step - loss: 0.0558 - accuracy: 0.9780 - val_loss: 0.0439 - val_accuracy: 0.9858\n",
      "Epoch 73/100\n",
      "88/88 [==============================] - 0s 2ms/step - loss: 0.0473 - accuracy: 0.9844 - val_loss: 0.0476 - val_accuracy: 0.9886\n",
      "Epoch 74/100\n",
      "88/88 [==============================] - 0s 3ms/step - loss: 0.0478 - accuracy: 0.9822 - val_loss: 0.0493 - val_accuracy: 0.9858\n",
      "Epoch 75/100\n",
      "88/88 [==============================] - 0s 3ms/step - loss: 0.0485 - accuracy: 0.9822 - val_loss: 0.0411 - val_accuracy: 0.9886\n",
      "Epoch 76/100\n",
      "88/88 [==============================] - 0s 3ms/step - loss: 0.0397 - accuracy: 0.9858 - val_loss: 0.0436 - val_accuracy: 0.9830\n",
      "Epoch 77/100\n",
      "88/88 [==============================] - 0s 3ms/step - loss: 0.0442 - accuracy: 0.9837 - val_loss: 0.0610 - val_accuracy: 0.9773\n",
      "Epoch 78/100\n",
      "88/88 [==============================] - 0s 3ms/step - loss: 0.0411 - accuracy: 0.9815 - val_loss: 0.0450 - val_accuracy: 0.9830\n",
      "Epoch 79/100\n",
      "88/88 [==============================] - 0s 3ms/step - loss: 0.0532 - accuracy: 0.9787 - val_loss: 0.0538 - val_accuracy: 0.9773\n",
      "Epoch 80/100\n",
      "88/88 [==============================] - 0s 3ms/step - loss: 0.0474 - accuracy: 0.9822 - val_loss: 0.0438 - val_accuracy: 0.9858\n",
      "Epoch 81/100\n",
      "88/88 [==============================] - 0s 2ms/step - loss: 0.0486 - accuracy: 0.9822 - val_loss: 0.0516 - val_accuracy: 0.9773\n",
      "Epoch 82/100\n",
      "88/88 [==============================] - 0s 2ms/step - loss: 0.0477 - accuracy: 0.9830 - val_loss: 0.0527 - val_accuracy: 0.9688\n",
      "Epoch 83/100\n",
      "88/88 [==============================] - 0s 2ms/step - loss: 0.0408 - accuracy: 0.9837 - val_loss: 0.0448 - val_accuracy: 0.9886\n",
      "Epoch 84/100\n",
      "88/88 [==============================] - 0s 2ms/step - loss: 0.0505 - accuracy: 0.9830 - val_loss: 0.0378 - val_accuracy: 0.9886\n",
      "Epoch 85/100\n",
      "88/88 [==============================] - 0s 2ms/step - loss: 0.0538 - accuracy: 0.9801 - val_loss: 0.0444 - val_accuracy: 0.9858\n",
      "Epoch 86/100\n",
      "88/88 [==============================] - 0s 2ms/step - loss: 0.0443 - accuracy: 0.9822 - val_loss: 0.0415 - val_accuracy: 0.9915\n",
      "Epoch 87/100\n",
      "88/88 [==============================] - 0s 2ms/step - loss: 0.0440 - accuracy: 0.9851 - val_loss: 0.0390 - val_accuracy: 0.9886\n",
      "Epoch 88/100\n",
      "88/88 [==============================] - 0s 2ms/step - loss: 0.0470 - accuracy: 0.9851 - val_loss: 0.0361 - val_accuracy: 0.9915\n",
      "Epoch 89/100\n",
      "88/88 [==============================] - 0s 2ms/step - loss: 0.0424 - accuracy: 0.9858 - val_loss: 0.0498 - val_accuracy: 0.9744\n",
      "Epoch 90/100\n",
      "88/88 [==============================] - 0s 2ms/step - loss: 0.0385 - accuracy: 0.9879 - val_loss: 0.0379 - val_accuracy: 0.9886\n",
      "Epoch 91/100\n",
      "88/88 [==============================] - 0s 2ms/step - loss: 0.0430 - accuracy: 0.9872 - val_loss: 0.0374 - val_accuracy: 0.9943\n",
      "Epoch 92/100\n",
      "88/88 [==============================] - 0s 2ms/step - loss: 0.0457 - accuracy: 0.9822 - val_loss: 0.0357 - val_accuracy: 0.9915\n",
      "Epoch 93/100\n",
      "88/88 [==============================] - 0s 2ms/step - loss: 0.0389 - accuracy: 0.9886 - val_loss: 0.0438 - val_accuracy: 0.9830\n",
      "Epoch 94/100\n",
      "88/88 [==============================] - 0s 2ms/step - loss: 0.0389 - accuracy: 0.9822 - val_loss: 0.0412 - val_accuracy: 0.9830\n",
      "Epoch 95/100\n",
      "88/88 [==============================] - 0s 2ms/step - loss: 0.0321 - accuracy: 0.9901 - val_loss: 0.0397 - val_accuracy: 0.9886\n",
      "Epoch 96/100\n",
      "88/88 [==============================] - 0s 2ms/step - loss: 0.0362 - accuracy: 0.9879 - val_loss: 0.0470 - val_accuracy: 0.9830\n",
      "Epoch 97/100\n",
      "88/88 [==============================] - 0s 3ms/step - loss: 0.0355 - accuracy: 0.9879 - val_loss: 0.0428 - val_accuracy: 0.9886\n",
      "Epoch 98/100\n",
      "88/88 [==============================] - 0s 4ms/step - loss: 0.0422 - accuracy: 0.9844 - val_loss: 0.0406 - val_accuracy: 0.9830\n",
      "Epoch 99/100\n",
      "88/88 [==============================] - 0s 2ms/step - loss: 0.0361 - accuracy: 0.9844 - val_loss: 0.0503 - val_accuracy: 0.9830\n",
      "Epoch 100/100\n",
      "88/88 [==============================] - 0s 3ms/step - loss: 0.0375 - accuracy: 0.9858 - val_loss: 0.0372 - val_accuracy: 0.9858\n"
     ]
    }
   ],
   "source": [
    "model = Sequential([\n",
    "    Dense(128, input_shape=(X_train.shape[1],), activation='relu'),\n",
    "    Dropout(0.3),\n",
    "    Dense(64, activation='relu'),\n",
    "    Dropout(0.2),\n",
    "    Dense(y.shape[1], activation='softmax')\n",
    "])\n",
    "\n",
    "model.compile(optimizer='adam', loss='categorical_crossentropy', metrics=['accuracy'])\n",
    "\n",
    "# Latih model\n",
    "history = model.fit(X_train, y_train, epochs=100, batch_size=16, validation_split=0.2, verbose=1)\n"
   ]
  },
  {
   "cell_type": "markdown",
   "id": "f7b4d12b",
   "metadata": {},
   "source": [
    "Selama 100 epoch pelatihan, model menunjukkan peningkatan kinerja yang konsisten. Akurasi validasi naik dari 59,94% di epoch pertama hingga mencapai puncaknya sebesar 98,58% pada epoch ke-54 dan ke-67, dengan penurunan signifikan pada nilai loss. "
   ]
  },
  {
   "cell_type": "markdown",
   "id": "1a72fdb6",
   "metadata": {},
   "source": [
    "    Evaluasi Model"
   ]
  },
  {
   "cell_type": "code",
   "execution_count": 5,
   "id": "d6c409b3",
   "metadata": {},
   "outputs": [
    {
     "name": "stdout",
     "output_type": "stream",
     "text": [
      "14/14 [==============================] - 0s 1ms/step - loss: 0.0759 - accuracy: 0.9682\n",
      "\n",
      "✅ Test Accuracy: 0.9682\n"
     ]
    }
   ],
   "source": [
    "loss, accuracy = model.evaluate(X_test, y_test)\n",
    "print(f\"\\n✅ Test Accuracy: {accuracy:.4f}\")\n"
   ]
  },
  {
   "cell_type": "markdown",
   "id": "3391904b",
   "metadata": {},
   "source": [
    "    Visualisasi"
   ]
  },
  {
   "cell_type": "code",
   "execution_count": 6,
   "id": "d2d9ea72",
   "metadata": {},
   "outputs": [
    {
     "data": {
      "image/png": "[encoded data removed]",
      "text/plain": [
       "<Figure size 640x480 with 1 Axes>"
      ]
     },
     "metadata": {},
     "output_type": "display_data"
    },
    {
     "data": {
      "image/png": "[encoded data removed]",
      "text/plain": [
       "<Figure size 640x480 with 1 Axes>"
      ]
     },
     "metadata": {},
     "output_type": "display_data"
    }
   ],
   "source": [
    "plt.plot(history.history['accuracy'], label='Train Accuracy')\n",
    "plt.plot(history.history['val_accuracy'], label='Val Accuracy')\n",
    "plt.title('Training vs Validation Accuracy')\n",
    "plt.xlabel('Epoch')\n",
    "plt.ylabel('Accuracy')\n",
    "plt.legend()\n",
    "plt.show()\n",
    "\n",
    "plt.plot(history.history['loss'], label='Train Loss')\n",
    "plt.plot(history.history['val_loss'], label='Val Loss')\n",
    "plt.title('Training vs Validation Loss')\n",
    "plt.xlabel('Epoch')\n",
    "plt.ylabel('Loss')\n",
    "plt.legend()\n",
    "plt.show()\n"
   ]
  },
  {
   "cell_type": "markdown",
   "id": "bcfb06ad",
   "metadata": {},
   "source": [
    "Berdasarkan grafik Training vs Validation Accuracy dapat disimpulkan bahwa grafik menunjukkan akurasi pelatihan dan validasi meningkat pesat di awal dan stabil mendekati 1.0 setelah sekitar 30 epoch. Konsistensi antara keduanya menandakan model belajar dengan baik tanpa overfitting, sehingga mampu melakukan generalisasi secara efektif.\n"
   ]
  },
  {
   "cell_type": "markdown",
   "id": "e285247f",
   "metadata": {},
   "source": [
    "Berdasarkan grafik Training vs Validation Loss, dapat disimpulkan bahwa nilai loss pelatihan dan validasi menurun hingga di bawah 0.1 dan stabil setelah epoch ke-50, tanpa gap signifikan, menandakan pembelajaran efektif, konvergensi tercapai, dan tidak terjadi overfitting.\n"
   ]
  },
  {
   "cell_type": "markdown",
   "id": "8ab183f8",
   "metadata": {},
   "source": [
    "    Eksperimen"
   ]
  },
  {
   "cell_type": "code",
   "execution_count": 18,
   "id": "29c0b30e",
   "metadata": {},
   "outputs": [
    {
     "name": "stdout",
     "output_type": "stream",
     "text": [
      "14/14 [==============================] - 0s 1ms/step\n",
      "Contoh ke-1:\n",
      "  Fitur (X_test): [ 1.36682815 -1.10262304 -0.02269297  0.7659645   1.04444468 -0.36758967\n",
      " -1.40420762]\n",
      "  Label asli: muskmelon\n",
      "  Prediksi model: muskmelon\n",
      "\n",
      "Contoh ke-2:\n",
      "  Fitur (X_test): [ 1.28554704 -1.37552907  0.05630155  0.11122799  0.67572532 -0.27158762\n",
      " -0.98338819]\n",
      "  Label asli: watermelon\n",
      "  Prediksi model: watermelon\n",
      "\n",
      "Contoh ke-3:\n",
      "  Fitur (X_test): [0.22889255 0.26190709 0.01680429 3.5049737  0.98254107 0.61002851\n",
      " 0.20591921]\n",
      "  Label asli: papaya\n",
      "  Prediksi model: papaya\n",
      "\n",
      "Contoh ke-4:\n",
      "  Fitur (X_test): [-0.17751303  0.2012613   0.13529608  1.71141724  0.85691408  0.45994921\n",
      " -0.08960047]\n",
      "  Label asli: papaya\n",
      "  Prediksi model: papaya\n",
      "\n",
      "Contoh ke-5:\n",
      "  Fitur (X_test): [-0.5568249   2.53612396  2.99884775 -0.53370693  0.86361433 -1.11929398\n",
      "  0.2755585 ]\n",
      "  Label asli: apple\n",
      "  Prediksi model: apple\n",
      "\n"
     ]
    }
   ],
   "source": [
    "# Prediksi menggunakan model\n",
    "y_pred_probs = model.predict(X_test)\n",
    "y_pred = np.argmax(y_pred_probs, axis=1)   # indeks kelas prediksi\n",
    "y_true = np.argmax(y_test, axis=1)          # indeks kelas asli\n",
    "\n",
    "# Tampilkan 5 contoh hasil klasifikasi\n",
    "for i in range(5):\n",
    "    print(f\"Contoh ke-{i+1}:\")\n",
    "    print(f\"  Fitur (X_test): {X_test[i]}\")\n",
    "    print(f\"  Label asli: {le.inverse_transform([y_true[i]])[0]}\")\n",
    "    print(f\"  Prediksi model: {le.inverse_transform([y_pred[i]])[0]}\")\n",
    "    print()\n"
   ]
  }
 ],
 "metadata": {
  "kernelspec": {
   "display_name": "Python 3",
   "language": "python",
   "name": "python3"
  },
  "language_info": {
   "codemirror_mode": {
    "name": "ipython",
    "version": 3
   },
   "file_extension": ".py",
   "mimetype": "text/x-python",
   "name": "python",
   "nbconvert_exporter": "python",
   "pygments_lexer": "ipython3",
   "version": "3.10.7"
  }
 },
 "nbformat": 4,
 "nbformat_minor": 5
}
