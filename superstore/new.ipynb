{
 "cells": [
  {
   "cell_type": "code",
   "execution_count": 1,
   "id": "e9bd9b43",
   "metadata": {},
   "outputs": [],
   "source": [
    "import pandas as pd\n",
    "import numpy as np\n",
    "from sklearn.model_selection import train_test_split\n",
    "from sklearn.preprocessing import StandardScaler, OneHotEncoder\n",
    "from sklearn.ensemble import RandomForestClassifier\n",
    "from sklearn.metrics import classification_report, confusion_matrix\n",
    "from sklearn.decomposition import PCA\n",
    "from sklearn.compose import ColumnTransformer\n",
    "from sklearn.pipeline import Pipeline\n",
    "import matplotlib.pyplot as plt\n",
    "import seaborn as sns\n"
   ]
  },
  {
   "cell_type": "code",
   "execution_count": 3,
   "id": "c323b239",
   "metadata": {},
   "outputs": [],
   "source": [
    "df = pd.read_csv('data.csv', encoding='cp1252')\n"
   ]
  },
  {
   "cell_type": "code",
   "execution_count": 4,
   "id": "ae65c9e8",
   "metadata": {},
   "outputs": [],
   "source": [
    "# Buat label klasifikasi\n",
    "df['Profit_Class'] = df['Profit'].apply(lambda x: 'Untung' if x >= 0 else 'Rugi')"
   ]
  },
  {
   "cell_type": "code",
   "execution_count": 5,
   "id": "c24d0005",
   "metadata": {},
   "outputs": [],
   "source": [
    "# Hapus kolom yang tidak dibutuhkan\n",
    "df.drop(['Row ID', 'Order ID', 'Customer ID', 'Customer Name', \n",
    "         'Product ID', 'Product Name', 'Order Date', 'Ship Date', 'Postal Code'], axis=1, inplace=True)\n"
   ]
  },
  {
   "cell_type": "code",
   "execution_count": 6,
   "id": "3f907318",
   "metadata": {},
   "outputs": [],
   "source": [
    "# Cek dan hapus duplikat\n",
    "df.drop_duplicates(inplace=True)\n",
    "\n",
    "# Tangani missing values (jika ada)\n",
    "df.dropna(inplace=True)  # atau imputasi jika diperlukan"
   ]
  },
  {
   "cell_type": "code",
   "execution_count": 7,
   "id": "0e160b26",
   "metadata": {},
   "outputs": [],
   "source": [
    "# Tangani outlier pada kolom numerik\n",
    "def remove_outliers_iqr(df, column):\n",
    "    Q1 = df[column].quantile(0.25)\n",
    "    Q3 = df[column].quantile(0.75)\n",
    "    IQR = Q3 - Q1\n",
    "    lower_bound = Q1 - 1.5 * IQR\n",
    "    upper_bound = Q3 + 1.5 * IQR\n",
    "    return df[(df[column] >= lower_bound) & (df[column] <= upper_bound)]\n",
    "\n",
    "for col in ['Sales', 'Quantity', 'Discount', 'Profit']:\n",
    "    df = remove_outliers_iqr(df, col)\n"
   ]
  },
  {
   "cell_type": "code",
   "execution_count": 10,
   "id": "359e36bb",
   "metadata": {},
   "outputs": [],
   "source": [
    "# Pisahkan fitur dan target\n",
    "X = df.drop('Profit_Class', axis=1)\n",
    "y = df['Profit_Class']\n",
    "\n",
    "# Identifikasi kolom\n",
    "num_cols = ['Sales', 'Quantity', 'Discount']\n",
    "cat_cols = X.select_dtypes(include='object').columns.tolist()\n",
    "\n",
    "\n",
    "# Preprocessing\n",
    "preprocessor = ColumnTransformer([\n",
    "    ('num', StandardScaler(), num_cols),\n",
    "    ('cat', OneHotEncoder(drop='first', sparse_output=False), cat_cols)  # 👈 ini yang diperbaiki\n",
    "])\n"
   ]
  },
  {
   "cell_type": "code",
   "execution_count": 11,
   "id": "5af6fa3e",
   "metadata": {},
   "outputs": [],
   "source": [
    "# Gabungkan pipeline\n",
    "pipeline = Pipeline(steps=[\n",
    "    ('preprocess', preprocessor),\n",
    "    ('pca', PCA(n_components=10))  # Sesuaikan jumlah komponen\n",
    "])\n",
    "X_transformed = pipeline.fit_transform(X)\n"
   ]
  },
  {
   "cell_type": "code",
   "execution_count": 12,
   "id": "c106f132",
   "metadata": {},
   "outputs": [],
   "source": [
    "X_train, X_test, y_train, y_test = train_test_split(X_transformed, y, test_size=0.2, random_state=42)\n"
   ]
  },
  {
   "cell_type": "code",
   "execution_count": 13,
   "id": "d5920b00",
   "metadata": {},
   "outputs": [],
   "source": [
    "model = RandomForestClassifier(random_state=42)\n",
    "model.fit(X_train, y_train)\n",
    "y_pred = model.predict(X_test)\n"
   ]
  },
  {
   "cell_type": "code",
   "execution_count": 14,
   "id": "253e5c2c",
   "metadata": {},
   "outputs": [
    {
     "name": "stdout",
     "output_type": "stream",
     "text": [
      "Classification Report:\n",
      "               precision    recall  f1-score   support\n",
      "\n",
      "        Rugi       0.72      0.44      0.55        77\n",
      "      Untung       0.97      0.99      0.98      1269\n",
      "\n",
      "    accuracy                           0.96      1346\n",
      "   macro avg       0.85      0.72      0.76      1346\n",
      "weighted avg       0.95      0.96      0.95      1346\n",
      "\n",
      "Confusion Matrix:\n",
      " [[  34   43]\n",
      " [  13 1256]]\n"
     ]
    }
   ],
   "source": [
    "print(\"Classification Report:\\n\", classification_report(y_test, y_pred))\n",
    "print(\"Confusion Matrix:\\n\", confusion_matrix(y_test, y_pred))\n"
   ]
  },
  {
   "cell_type": "code",
   "execution_count": 15,
   "id": "ac9a6012",
   "metadata": {},
   "outputs": [
    {
     "name": "stdout",
     "output_type": "stream",
     "text": [
      "Prediksi: ['Untung' 'Untung' 'Untung' 'Untung' 'Untung']\n",
      "Label Asli: ['Rugi' 'Untung' 'Untung' 'Untung' 'Untung']\n"
     ]
    }
   ],
   "source": [
    "# Ambil 5 contoh data test dan prediksi\n",
    "sample = X_test[:5]\n",
    "sample_pred = model.predict(sample)\n",
    "\n",
    "# Tampilkan\n",
    "print(\"Prediksi:\", sample_pred)\n",
    "print(\"Label Asli:\", y_test[:5].values)\n"
   ]
  },
  {
   "cell_type": "code",
   "execution_count": null,
   "id": "7c6ab958",
   "metadata": {},
   "outputs": [],
   "source": []
  },
  {
   "cell_type": "code",
   "execution_count": null,
   "id": "518878ec",
   "metadata": {},
   "outputs": [],
   "source": []
  },
  {
   "cell_type": "code",
   "execution_count": null,
   "id": "eb325ba6",
   "metadata": {},
   "outputs": [],
   "source": []
  },
  {
   "cell_type": "code",
   "execution_count": null,
   "id": "a60d7ca6",
   "metadata": {},
   "outputs": [],
   "source": []
  }
 ],
 "metadata": {
  "kernelspec": {
   "display_name": "Python 3",
   "language": "python",
   "name": "python3"
  },
  "language_info": {
   "codemirror_mode": {
    "name": "ipython",
    "version": 3
   },
   "file_extension": ".py",
   "mimetype": "text/x-python",
   "name": "python",
   "nbconvert_exporter": "python",
   "pygments_lexer": "ipython3",
   "version": "3.10.7"
  }
 },
 "nbformat": 4,
 "nbformat_minor": 5
}
